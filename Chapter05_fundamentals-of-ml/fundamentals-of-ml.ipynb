{
 "cells": [
  {
   "cell_type": "markdown",
   "metadata": {},
   "source": [
    "### Fundamentals of machine learning\n",
    "After the three practical examples in chapter 4, you should be starting to feel familiar with how to approach classification and regression problems using neural networks, and you’ve witnessed the central problem of machine learning: overfitting.<br>\n",
    "This chapter will formalize some of your new intuition about machine learning into a solid conceptual framework, highlighting the importance of accurate model evaluation and the balance between training and generalization."
   ]
  },
  {
   "cell_type": "markdown",
   "metadata": {},
   "source": [
    "#### Generalization: The goal of machine learning\n",
    "In the three examples presented in chapter 4—predicting movie reviews, topic classification, and house-price regression—we split the data into a training set, a validation set, and a test set. The reason not to evaluate the models on the same data they were trained on quickly became evident: after just a few epochs, performance on never-before-seen data started diverging from performance on the training data, which always improves as training progresses. <br>\n",
    "The models started to **overfit**. Overfitting happens in every machine learning problem. <br>\n",
    "The fundamental issue in machine learning is the tension between optimization and generalization. **Optimization** refers to the process of adjusting a model to get the best performance possible on the training data (the learning in machine learning), whereas **generalization** refers to how well the trained model performs on data it has never seen before. The goal of the game is to get good generalization, of course, but you don’t control generalization; you can only fit the model to its training data. <br> \n",
    "If you do that too well, overfitting kicks in and generalization suffers. <br>\n",
    "But what causes overfitting? How can we achieve good generalization?"
   ]
  },
  {
   "cell_type": "markdown",
   "metadata": {},
   "source": [
    "##### Underfitting and overfitting\n",
    "For the models you saw in the previous chapter, performance on the held-out validation data started improving as training went on and then inevitably peaked after a while. This pattern (illustrated in figure 5.1) is universal. You’ll see it with any model type and any dataset.\n",
    "\n",
    "![overfitting](./images/5.1.png)\n",
    "\n",
    "At the beginning of training, optimization and generalization are correlated: the lower the loss on training data, the lower the loss on test data. While this is happening, your model is said to be **underfit**: there is still progress to be made; the network hasn’t yet modeled all relevant patterns in the training data. But after a certain number of iterations on the training data, generalization stops improving, validation metrics stall and then begin to degrade: the model is starting to **overfit**. That is, it’s beginning to learn patterns that are specific to the training data but that are misleading or irrelevant when it comes to new data. <br>\n",
    "Overfitting is particularly likely to occur when your data is noisy, if it involves uncertainty, or if it includes rare features. Let’s look at concrete examples."
   ]
  },
  {
   "cell_type": "markdown",
   "metadata": {},
   "source": [
    "##### NOISY TRAINING DATA\n",
    "In real-world datasets, it’s fairly common for some inputs to be invalid. Perhaps a MNIST digit could be an all-black image, for instance, or something like figure 5.2.\n",
    "\n",
    "![noisy-data](./images/5.2.png)\n",
    "\n",
    "What are these? I don’t know either. But they’re all part of the MNIST training set.\n",
    "What’s even worse, however, is having perfectly valid inputs that end up mislabeled, like those in figure 5.3.\n",
    "\n",
    "![mislabeled-data](./images/5.3.png)\n",
    "\n",
    "If a model goes out of its way to incorporate such outliers, its generalization performance will degrade, as shown in figure 5.4. For instance, a 4 that looks very close to the mislabeled 4 in figure 5.3 may end up getting classified as a 9.\n",
    "\n",
    "![](./images/5.4.png)"
   ]
  },
  {
   "cell_type": "markdown",
   "metadata": {},
   "source": [
    "##### AMBIGUOUS FEATURES\n",
    "Not all data noise comes from inaccuracies—even perfectly clean and neatly labeled data can be noisy when the problem involves uncertainty and ambiguity. In classification tasks, it is often the case that some regions of the input feature space are associated with multiple classes at the same time. Let’s say you’re developing a model that takes an image of a banana and predicts whether the banana is unripe, ripe, or rotten. <br>\n",
    "These categories have no objective boundaries, so the same picture might be classified as either unripe or ripe by different human labelers. Similarly, many problems involve randomness. You could use atmospheric pressure data to predict whether it will rain tomorrow, but the exact same measurements may be followed sometimes by rain and sometimes by a clear sky, with some probability. <br>\n",
    "A model could overfit to such probabilistic data by being too confident about ambiguous regions of the feature space, like in figure 5.5. A more robust fit would ignore individual data points and look at the bigger picture.\n",
    "\n",
    "![](./images/5.5.png)"
   ]
  },
  {
   "cell_type": "markdown",
   "metadata": {},
   "source": [
    "##### RARE FEATURES AND SPURIOUS CORRELATIONS\n",
    "If you’ve only ever seen two orange tabby cats in your life, and they both happened to be terribly antisocial, you might infer that orange tabby cats are generally likely to be antisocial. That’s overfitting: if you had been exposed to a wider variety of cats, including more orange ones, you’d have learned that cat color is not well correlated with character. <br>\n",
    "Likewise, machine learning models trained on datasets that include rare feature values are highly susceptible to overfitting. In a sentiment classification task, if the word “cherimoya” (a fruit native to the Andes) only appears in one text in the training data, and this text happens to be negative in sentiment, a poorly regularized model might put a very high weight on this word and always classify new texts that mention cherimoyas as negative, whereas, objectively, there’s nothing negative about the cherimoya. <br>\n",
    "Importantly, a feature value doesn’t need to occur only a couple of times to lead to spurious correlations. Consider a word that occurs in 100 samples in your training data and that’s associated with a positive sentiment 54% of the time and with a negative sentiment 46% of the time. That difference may well be a complete statistical fluke, yet your model is likely to learn to leverage that feature for its classification task. <br>\n",
    "This is one of the most common sources of **overfitting**. <br>\n",
    "Here’s a striking example. Take MNIST. Create a new training set by concatenating 784 white noise dimensions to the existing 784 dimensions of the data, so half of the data is now noise. For comparison, also create an equivalent dataset by concatenating 784 all-zeros dimensions. Our concatenation of meaningless features does not at all affect the information content of the data: we’re only adding something. **Human classification accuracy wouldn’t be affected by these transformations at all.**\n",
    "\n",
    "##### Adding white noise channels or all-zeros channels to MNIST"
   ]
  },
  {
   "cell_type": "code",
   "execution_count": 2,
   "metadata": {},
   "outputs": [],
   "source": [
    "from tensorflow.keras.datasets import mnist\n",
    "import numpy as np\n",
    "\n",
    "(train_images, train_labels), _ = mnist.load_data()\n",
    "train_images = train_images.reshape((60000, 28 * 28))\n",
    "train_images = train_images.astype(\"float32\") / 255\n",
    "\n",
    "train_images_with_noise_channels = np.concatenate(\n",
    "    [train_images, np.random.random((len(train_images), 784))], axis=1)\n",
    "\n",
    "train_images_with_zeros_channels = np.concatenate(\n",
    "    [train_images, np.zeros((len(train_images), 784))], axis=1)"
   ]
  },
  {
   "cell_type": "markdown",
   "metadata": {},
   "source": [
    "Now, let’s train the model from chapter 2 on both of these training sets.\n",
    "##### Training the same model on MNIST data with noise channels or all-zero channels"
   ]
  },
  {
   "cell_type": "code",
   "execution_count": 3,
   "metadata": {},
   "outputs": [
    {
     "name": "stdout",
     "output_type": "stream",
     "text": [
      "Epoch 1/10\n",
      "375/375 [==============================] - 5s 11ms/step - loss: 0.6323 - accuracy: 0.8067 - val_loss: 0.2572 - val_accuracy: 0.9219\n",
      "Epoch 2/10\n",
      "375/375 [==============================] - 4s 11ms/step - loss: 0.2492 - accuracy: 0.9223 - val_loss: 0.2133 - val_accuracy: 0.9363\n",
      "Epoch 3/10\n",
      "375/375 [==============================] - 4s 11ms/step - loss: 0.1592 - accuracy: 0.9508 - val_loss: 0.1411 - val_accuracy: 0.9576\n",
      "Epoch 4/10\n",
      "375/375 [==============================] - 4s 11ms/step - loss: 0.1107 - accuracy: 0.9652 - val_loss: 0.1804 - val_accuracy: 0.9448\n",
      "Epoch 5/10\n",
      "375/375 [==============================] - 4s 11ms/step - loss: 0.0844 - accuracy: 0.9730 - val_loss: 0.1359 - val_accuracy: 0.9618\n",
      "Epoch 6/10\n",
      "375/375 [==============================] - 4s 10ms/step - loss: 0.0609 - accuracy: 0.9800 - val_loss: 0.1359 - val_accuracy: 0.9631\n",
      "Epoch 7/10\n",
      "375/375 [==============================] - 4s 10ms/step - loss: 0.0437 - accuracy: 0.9857 - val_loss: 0.1402 - val_accuracy: 0.9639\n",
      "Epoch 8/10\n",
      "375/375 [==============================] - 4s 10ms/step - loss: 0.0331 - accuracy: 0.9893 - val_loss: 0.1285 - val_accuracy: 0.9679\n",
      "Epoch 9/10\n",
      "375/375 [==============================] - 4s 10ms/step - loss: 0.0253 - accuracy: 0.9915 - val_loss: 0.1207 - val_accuracy: 0.9699\n",
      "Epoch 10/10\n",
      "375/375 [==============================] - 4s 10ms/step - loss: 0.0194 - accuracy: 0.9935 - val_loss: 0.1575 - val_accuracy: 0.9616\n",
      "Epoch 1/10\n",
      "375/375 [==============================] - 4s 10ms/step - loss: 0.2903 - accuracy: 0.9164 - val_loss: 0.1427 - val_accuracy: 0.9588\n",
      "Epoch 2/10\n",
      "375/375 [==============================] - 4s 10ms/step - loss: 0.1186 - accuracy: 0.9654 - val_loss: 0.0979 - val_accuracy: 0.9714\n",
      "Epoch 3/10\n",
      "375/375 [==============================] - 4s 10ms/step - loss: 0.0773 - accuracy: 0.9767 - val_loss: 0.0971 - val_accuracy: 0.9730\n",
      "Epoch 4/10\n",
      "375/375 [==============================] - 4s 11ms/step - loss: 0.0555 - accuracy: 0.9838 - val_loss: 0.0851 - val_accuracy: 0.9746\n",
      "Epoch 5/10\n",
      "375/375 [==============================] - 4s 10ms/step - loss: 0.0416 - accuracy: 0.9881 - val_loss: 0.0803 - val_accuracy: 0.9758\n",
      "Epoch 6/10\n",
      "375/375 [==============================] - 4s 10ms/step - loss: 0.0313 - accuracy: 0.9906 - val_loss: 0.0787 - val_accuracy: 0.9783\n",
      "Epoch 7/10\n",
      "375/375 [==============================] - 4s 10ms/step - loss: 0.0236 - accuracy: 0.9933 - val_loss: 0.0765 - val_accuracy: 0.9803\n",
      "Epoch 8/10\n",
      "375/375 [==============================] - 4s 10ms/step - loss: 0.0179 - accuracy: 0.9953 - val_loss: 0.0852 - val_accuracy: 0.9780\n",
      "Epoch 9/10\n",
      "375/375 [==============================] - 4s 10ms/step - loss: 0.0137 - accuracy: 0.9963 - val_loss: 0.0818 - val_accuracy: 0.9791\n",
      "Epoch 10/10\n",
      "375/375 [==============================] - 4s 10ms/step - loss: 0.0101 - accuracy: 0.9973 - val_loss: 0.0846 - val_accuracy: 0.9793\n"
     ]
    }
   ],
   "source": [
    "from tensorflow import keras\n",
    "from tensorflow.keras import layers\n",
    "\n",
    "def get_model():\n",
    "    model = keras.Sequential([\n",
    "        layers.Dense(512, activation=\"relu\"),\n",
    "        layers.Dense(10, activation=\"softmax\")\n",
    "    ])\n",
    "    model.compile(optimizer=\"rmsprop\",\n",
    "                  loss=\"sparse_categorical_crossentropy\",\n",
    "                  metrics=[\"accuracy\"])\n",
    "    return model\n",
    "\n",
    "model = get_model()\n",
    "history_noise = model.fit(\n",
    "    train_images_with_noise_channels, train_labels,\n",
    "    epochs=10,\n",
    "    batch_size=128,\n",
    "    validation_split=0.2)\n",
    "\n",
    "model = get_model()\n",
    "history_zeros = model.fit(\n",
    "    train_images_with_zeros_channels, train_labels,\n",
    "    epochs=10,\n",
    "    batch_size=128,\n",
    "    validation_split=0.2)"
   ]
  },
  {
   "cell_type": "markdown",
   "metadata": {},
   "source": [
    "Let’s compare how the validation accuracy of each model evolves over time.\n",
    "##### Plotting a validation accuracy comparison"
   ]
  },
  {
   "cell_type": "code",
   "execution_count": 4,
   "metadata": {},
   "outputs": [
    {
     "data": {
      "text/plain": [
       "<matplotlib.legend.Legend at 0x1cb19160d00>"
      ]
     },
     "execution_count": 4,
     "metadata": {},
     "output_type": "execute_result"
    },
    {
     "data": {
      "image/png": "[encoded data removed]",
      "text/plain": [
       "<Figure size 432x288 with 1 Axes>"
      ]
     },
     "metadata": {
      "needs_background": "light"
     },
     "output_type": "display_data"
    }
   ],
   "source": [
    "import matplotlib.pyplot as plt\n",
    "val_acc_noise = history_noise.history[\"val_accuracy\"]\n",
    "val_acc_zeros = history_zeros.history[\"val_accuracy\"]\n",
    "epochs = range(1, 11)\n",
    "plt.plot(epochs, val_acc_noise, \"b-\",\n",
    "         label=\"Validation accuracy with noise channels\")\n",
    "plt.plot(epochs, val_acc_zeros, \"b--\",\n",
    "         label=\"Validation accuracy with zeros channels\")\n",
    "plt.title(\"Effect of noise channels on validation accuracy\")\n",
    "plt.xlabel(\"Epochs\")\n",
    "plt.ylabel(\"Accuracy\")\n",
    "plt.legend()"
   ]
  },
  {
   "cell_type": "markdown",
   "metadata": {},
   "source": [
    "Despite the data holding the same information in both cases, the validation accuracy of the model trained with noise channels ends up about one percentage point lower—purely through the influence of spurious correlations. The more noise channels you add, the further accuracy will degrade. <br>\n",
    "Noisy features inevitably lead to overfitting. As such, in cases where you aren’t sure whether the features you have are informative or distracting, it’s common to do **feature selection** before training. Restricting the IMDB data to the top 10,000 most common words was a crude form of feature selection, for instance. The typical way to do feature selection is to compute some usefulness score for each feature available—a measure of how informative the feature is with respect to the task, such as the mutual information between the feature and the labels—and only keep features that are above some threshold. Doing this would filter out the white noise channels in the preceding example."
   ]
  },
  {
   "cell_type": "markdown",
   "metadata": {},
   "source": [
    "#### The nature of generalization in deep learning\n",
    "A remarkable fact about deep learning models is that they can be trained to fit anything, as long as they have enough representational power. <br>\n",
    "Don’t believe me? Try shuffling the MNIST labels and train a model on that. Even though there is no relationship whatsoever between the inputs and the shuffled labels, the training loss goes down just fine, even with a relatively small model. Naturally, the validation loss does not improve at all over time, since there is no possibility of generalization in this setting.\n",
    "\n",
    "##### Fitting an MNIST model with randomly shuffled labels"
   ]
  },
  {
   "cell_type": "code",
   "execution_count": 5,
   "metadata": {},
   "outputs": [
    {
     "name": "stdout",
     "output_type": "stream",
     "text": [
      "Epoch 1/100\n",
      "375/375 [==============================] - 3s 7ms/step - loss: 2.3164 - accuracy: 0.1049 - val_loss: 2.3062 - val_accuracy: 0.1080\n",
      "Epoch 2/100\n",
      "375/375 [==============================] - 3s 7ms/step - loss: 2.2996 - accuracy: 0.1181 - val_loss: 2.3117 - val_accuracy: 0.1042\n",
      "Epoch 3/100\n",
      "375/375 [==============================] - 3s 7ms/step - loss: 2.2890 - accuracy: 0.1296 - val_loss: 2.3209 - val_accuracy: 0.1051\n",
      "Epoch 4/100\n",
      "375/375 [==============================] - 2s 7ms/step - loss: 2.2752 - accuracy: 0.1422 - val_loss: 2.3320 - val_accuracy: 0.1018\n",
      "Epoch 5/100\n",
      "375/375 [==============================] - 2s 7ms/step - loss: 2.2581 - accuracy: 0.1550 - val_loss: 2.3376 - val_accuracy: 0.1017\n",
      "Epoch 6/100\n",
      "375/375 [==============================] - 2s 6ms/step - loss: 2.2368 - accuracy: 0.1677 - val_loss: 2.3510 - val_accuracy: 0.1003\n",
      "Epoch 7/100\n",
      "375/375 [==============================] - 2s 6ms/step - loss: 2.2145 - accuracy: 0.1831 - val_loss: 2.3694 - val_accuracy: 0.1022\n",
      "Epoch 8/100\n",
      "375/375 [==============================] - 2s 6ms/step - loss: 2.1874 - accuracy: 0.1974 - val_loss: 2.3894 - val_accuracy: 0.1025\n",
      "Epoch 9/100\n",
      "375/375 [==============================] - 2s 6ms/step - loss: 2.1585 - accuracy: 0.2112 - val_loss: 2.4002 - val_accuracy: 0.0985\n",
      "Epoch 10/100\n",
      "375/375 [==============================] - 2s 7ms/step - loss: 2.1280 - accuracy: 0.2257 - val_loss: 2.4188 - val_accuracy: 0.0991\n",
      "Epoch 11/100\n",
      "375/375 [==============================] - 2s 6ms/step - loss: 2.0954 - accuracy: 0.2459 - val_loss: 2.4584 - val_accuracy: 0.1014\n",
      "Epoch 12/100\n",
      "375/375 [==============================] - 2s 6ms/step - loss: 2.0631 - accuracy: 0.2592 - val_loss: 2.4673 - val_accuracy: 0.1048\n",
      "Epoch 13/100\n",
      "375/375 [==============================] - 2s 6ms/step - loss: 2.0299 - accuracy: 0.2743 - val_loss: 2.5006 - val_accuracy: 0.0990\n",
      "Epoch 14/100\n",
      "375/375 [==============================] - 2s 6ms/step - loss: 1.9942 - accuracy: 0.2909 - val_loss: 2.5348 - val_accuracy: 0.0996\n",
      "Epoch 15/100\n",
      "375/375 [==============================] - 2s 7ms/step - loss: 1.9618 - accuracy: 0.3053 - val_loss: 2.5584 - val_accuracy: 0.1042\n",
      "Epoch 16/100\n",
      "375/375 [==============================] - 3s 7ms/step - loss: 1.9262 - accuracy: 0.3182 - val_loss: 2.5691 - val_accuracy: 0.1049\n",
      "Epoch 17/100\n",
      "375/375 [==============================] - 3s 7ms/step - loss: 1.8935 - accuracy: 0.3313 - val_loss: 2.6253 - val_accuracy: 0.0962\n",
      "Epoch 18/100\n",
      "375/375 [==============================] - 2s 6ms/step - loss: 1.8610 - accuracy: 0.3434 - val_loss: 2.6528 - val_accuracy: 0.0968\n",
      "Epoch 19/100\n",
      "375/375 [==============================] - 2s 6ms/step - loss: 1.8292 - accuracy: 0.3586 - val_loss: 2.6740 - val_accuracy: 0.1044\n",
      "Epoch 20/100\n",
      "375/375 [==============================] - 2s 6ms/step - loss: 1.7960 - accuracy: 0.3714 - val_loss: 2.7343 - val_accuracy: 0.1045\n",
      "Epoch 21/100\n",
      "375/375 [==============================] - 2s 6ms/step - loss: 1.7628 - accuracy: 0.3823 - val_loss: 2.7610 - val_accuracy: 0.1014\n",
      "Epoch 22/100\n",
      "375/375 [==============================] - 2s 6ms/step - loss: 1.7331 - accuracy: 0.3946 - val_loss: 2.8050 - val_accuracy: 0.0972\n",
      "Epoch 23/100\n",
      "375/375 [==============================] - 2s 6ms/step - loss: 1.7026 - accuracy: 0.4053 - val_loss: 2.8199 - val_accuracy: 0.1003\n",
      "Epoch 24/100\n",
      "375/375 [==============================] - 2s 6ms/step - loss: 1.6736 - accuracy: 0.4177 - val_loss: 2.8707 - val_accuracy: 0.1022\n",
      "Epoch 25/100\n",
      "375/375 [==============================] - 2s 6ms/step - loss: 1.6459 - accuracy: 0.4287 - val_loss: 2.9278 - val_accuracy: 0.0995\n",
      "Epoch 26/100\n",
      "375/375 [==============================] - 2s 6ms/step - loss: 1.6174 - accuracy: 0.4415 - val_loss: 2.9432 - val_accuracy: 0.0992\n",
      "Epoch 27/100\n",
      "375/375 [==============================] - 2s 6ms/step - loss: 1.5897 - accuracy: 0.4508 - val_loss: 3.0157 - val_accuracy: 0.1001\n",
      "Epoch 28/100\n",
      "375/375 [==============================] - 3s 7ms/step - loss: 1.5609 - accuracy: 0.4602 - val_loss: 3.0260 - val_accuracy: 0.1025\n",
      "Epoch 29/100\n",
      "375/375 [==============================] - 3s 7ms/step - loss: 1.5350 - accuracy: 0.4705 - val_loss: 3.1003 - val_accuracy: 0.1013\n",
      "Epoch 30/100\n",
      "375/375 [==============================] - 3s 7ms/step - loss: 1.5089 - accuracy: 0.4821 - val_loss: 3.1219 - val_accuracy: 0.1013\n",
      "Epoch 31/100\n",
      "375/375 [==============================] - 3s 7ms/step - loss: 1.4860 - accuracy: 0.4885 - val_loss: 3.1556 - val_accuracy: 0.1020\n",
      "Epoch 32/100\n",
      "375/375 [==============================] - 2s 7ms/step - loss: 1.4618 - accuracy: 0.4974 - val_loss: 3.1976 - val_accuracy: 0.0981\n",
      "Epoch 33/100\n",
      "375/375 [==============================] - 3s 7ms/step - loss: 1.4362 - accuracy: 0.5073 - val_loss: 3.2453 - val_accuracy: 0.1026\n",
      "Epoch 34/100\n",
      "375/375 [==============================] - 3s 7ms/step - loss: 1.4145 - accuracy: 0.5140 - val_loss: 3.2817 - val_accuracy: 0.1023\n",
      "Epoch 35/100\n",
      "375/375 [==============================] - 3s 7ms/step - loss: 1.3902 - accuracy: 0.5258 - val_loss: 3.3399 - val_accuracy: 0.1037\n",
      "Epoch 36/100\n",
      "375/375 [==============================] - 2s 6ms/step - loss: 1.3674 - accuracy: 0.5330 - val_loss: 3.3745 - val_accuracy: 0.1002\n",
      "Epoch 37/100\n",
      "375/375 [==============================] - 3s 7ms/step - loss: 1.3463 - accuracy: 0.5382 - val_loss: 3.4440 - val_accuracy: 0.0995\n",
      "Epoch 38/100\n",
      "375/375 [==============================] - 3s 7ms/step - loss: 1.3250 - accuracy: 0.5484 - val_loss: 3.4757 - val_accuracy: 0.1022\n",
      "Epoch 39/100\n",
      "375/375 [==============================] - 2s 6ms/step - loss: 1.3043 - accuracy: 0.5562 - val_loss: 3.5354 - val_accuracy: 0.1018\n",
      "Epoch 40/100\n",
      "375/375 [==============================] - 2s 6ms/step - loss: 1.2838 - accuracy: 0.5627 - val_loss: 3.5323 - val_accuracy: 0.1026\n",
      "Epoch 41/100\n",
      "375/375 [==============================] - 2s 6ms/step - loss: 1.2634 - accuracy: 0.5712 - val_loss: 3.6074 - val_accuracy: 0.0994\n",
      "Epoch 42/100\n",
      "375/375 [==============================] - 2s 6ms/step - loss: 1.2420 - accuracy: 0.5759 - val_loss: 3.6791 - val_accuracy: 0.1023\n",
      "Epoch 43/100\n",
      "375/375 [==============================] - 2s 6ms/step - loss: 1.2241 - accuracy: 0.5852 - val_loss: 3.6929 - val_accuracy: 0.1019\n",
      "Epoch 44/100\n",
      "375/375 [==============================] - 2s 6ms/step - loss: 1.2040 - accuracy: 0.5917 - val_loss: 3.7824 - val_accuracy: 0.1019\n",
      "Epoch 45/100\n",
      "375/375 [==============================] - 2s 6ms/step - loss: 1.1860 - accuracy: 0.5980 - val_loss: 3.8472 - val_accuracy: 0.0999\n",
      "Epoch 46/100\n",
      "375/375 [==============================] - 2s 6ms/step - loss: 1.1678 - accuracy: 0.6060 - val_loss: 3.8597 - val_accuracy: 0.0989\n",
      "Epoch 47/100\n",
      "375/375 [==============================] - 2s 6ms/step - loss: 1.1496 - accuracy: 0.6117 - val_loss: 3.9607 - val_accuracy: 0.0993\n",
      "Epoch 48/100\n",
      "375/375 [==============================] - 2s 7ms/step - loss: 1.1321 - accuracy: 0.6182 - val_loss: 3.9625 - val_accuracy: 0.0990\n",
      "Epoch 49/100\n",
      "375/375 [==============================] - 3s 7ms/step - loss: 1.1166 - accuracy: 0.6233 - val_loss: 4.0094 - val_accuracy: 0.0995\n",
      "Epoch 50/100\n",
      "375/375 [==============================] - 3s 7ms/step - loss: 1.0982 - accuracy: 0.6298 - val_loss: 4.0778 - val_accuracy: 0.1004\n",
      "Epoch 51/100\n",
      "375/375 [==============================] - 3s 7ms/step - loss: 1.0822 - accuracy: 0.6356 - val_loss: 4.1665 - val_accuracy: 0.1020\n",
      "Epoch 52/100\n",
      "375/375 [==============================] - 2s 7ms/step - loss: 1.0668 - accuracy: 0.6401 - val_loss: 4.2300 - val_accuracy: 0.0976\n",
      "Epoch 53/100\n",
      "375/375 [==============================] - 2s 7ms/step - loss: 1.0514 - accuracy: 0.6486 - val_loss: 4.2056 - val_accuracy: 0.1024\n",
      "Epoch 54/100\n",
      "375/375 [==============================] - 3s 7ms/step - loss: 1.0340 - accuracy: 0.6530 - val_loss: 4.3191 - val_accuracy: 0.1008\n",
      "Epoch 55/100\n",
      "375/375 [==============================] - 2s 7ms/step - loss: 1.0197 - accuracy: 0.6594 - val_loss: 4.3377 - val_accuracy: 0.1002\n",
      "Epoch 56/100\n",
      "375/375 [==============================] - 3s 7ms/step - loss: 1.0035 - accuracy: 0.6626 - val_loss: 4.4261 - val_accuracy: 0.0994\n",
      "Epoch 57/100\n",
      "375/375 [==============================] - 3s 7ms/step - loss: 0.9901 - accuracy: 0.6684 - val_loss: 4.4455 - val_accuracy: 0.0983\n",
      "Epoch 58/100\n",
      "375/375 [==============================] - 2s 7ms/step - loss: 0.9754 - accuracy: 0.6763 - val_loss: 4.5141 - val_accuracy: 0.0985\n",
      "Epoch 59/100\n",
      "375/375 [==============================] - 3s 7ms/step - loss: 0.9595 - accuracy: 0.6810 - val_loss: 4.6469 - val_accuracy: 0.0999\n",
      "Epoch 60/100\n",
      "375/375 [==============================] - 3s 7ms/step - loss: 0.9474 - accuracy: 0.6853 - val_loss: 4.6922 - val_accuracy: 0.1013\n",
      "Epoch 61/100\n",
      "375/375 [==============================] - 3s 7ms/step - loss: 0.9335 - accuracy: 0.6889 - val_loss: 4.6850 - val_accuracy: 0.1036\n",
      "Epoch 62/100\n",
      "375/375 [==============================] - 3s 7ms/step - loss: 0.9199 - accuracy: 0.6921 - val_loss: 4.7130 - val_accuracy: 0.0979\n",
      "Epoch 63/100\n",
      "375/375 [==============================] - 2s 7ms/step - loss: 0.9064 - accuracy: 0.6996 - val_loss: 4.8252 - val_accuracy: 0.0996\n",
      "Epoch 64/100\n",
      "375/375 [==============================] - 3s 7ms/step - loss: 0.8943 - accuracy: 0.7026 - val_loss: 4.8958 - val_accuracy: 0.0988\n",
      "Epoch 65/100\n",
      "375/375 [==============================] - 2s 7ms/step - loss: 0.8786 - accuracy: 0.7078 - val_loss: 4.9149 - val_accuracy: 0.1001\n",
      "Epoch 66/100\n",
      "375/375 [==============================] - 2s 7ms/step - loss: 0.8677 - accuracy: 0.7112 - val_loss: 5.0197 - val_accuracy: 0.0993\n",
      "Epoch 67/100\n",
      "375/375 [==============================] - 2s 7ms/step - loss: 0.8546 - accuracy: 0.7182 - val_loss: 5.0136 - val_accuracy: 0.0997\n",
      "Epoch 68/100\n",
      "375/375 [==============================] - 2s 7ms/step - loss: 0.8412 - accuracy: 0.7205 - val_loss: 5.1261 - val_accuracy: 0.1006\n",
      "Epoch 69/100\n",
      "375/375 [==============================] - 2s 7ms/step - loss: 0.8312 - accuracy: 0.7244 - val_loss: 5.1550 - val_accuracy: 0.0983\n",
      "Epoch 70/100\n",
      "375/375 [==============================] - 2s 7ms/step - loss: 0.8171 - accuracy: 0.7286 - val_loss: 5.2194 - val_accuracy: 0.1011\n",
      "Epoch 71/100\n",
      "375/375 [==============================] - 2s 7ms/step - loss: 0.8054 - accuracy: 0.7338 - val_loss: 5.3143 - val_accuracy: 0.1016\n",
      "Epoch 72/100\n",
      "375/375 [==============================] - 2s 7ms/step - loss: 0.7953 - accuracy: 0.7363 - val_loss: 5.3589 - val_accuracy: 0.0987\n",
      "Epoch 73/100\n",
      "375/375 [==============================] - 3s 7ms/step - loss: 0.7842 - accuracy: 0.7404 - val_loss: 5.3528 - val_accuracy: 0.1000\n",
      "Epoch 74/100\n",
      "375/375 [==============================] - 3s 7ms/step - loss: 0.7736 - accuracy: 0.7455 - val_loss: 5.5019 - val_accuracy: 0.0993\n",
      "Epoch 75/100\n",
      "375/375 [==============================] - 3s 7ms/step - loss: 0.7631 - accuracy: 0.7480 - val_loss: 5.5578 - val_accuracy: 0.1039\n",
      "Epoch 76/100\n",
      "375/375 [==============================] - 3s 7ms/step - loss: 0.7526 - accuracy: 0.7531 - val_loss: 5.5744 - val_accuracy: 0.0993\n",
      "Epoch 77/100\n",
      "375/375 [==============================] - 3s 7ms/step - loss: 0.7401 - accuracy: 0.7570 - val_loss: 5.6633 - val_accuracy: 0.0997\n",
      "Epoch 78/100\n",
      "375/375 [==============================] - 3s 7ms/step - loss: 0.7305 - accuracy: 0.7589 - val_loss: 5.7158 - val_accuracy: 0.1009\n",
      "Epoch 79/100\n",
      "375/375 [==============================] - 3s 7ms/step - loss: 0.7210 - accuracy: 0.7632 - val_loss: 5.7627 - val_accuracy: 0.1003\n",
      "Epoch 80/100\n",
      "375/375 [==============================] - 3s 7ms/step - loss: 0.7115 - accuracy: 0.7667 - val_loss: 5.8542 - val_accuracy: 0.0980\n",
      "Epoch 81/100\n",
      "375/375 [==============================] - 3s 7ms/step - loss: 0.7031 - accuracy: 0.7681 - val_loss: 5.8610 - val_accuracy: 0.0978\n",
      "Epoch 82/100\n",
      "375/375 [==============================] - 3s 7ms/step - loss: 0.6906 - accuracy: 0.7746 - val_loss: 5.8824 - val_accuracy: 0.1023\n",
      "Epoch 83/100\n",
      "375/375 [==============================] - 3s 7ms/step - loss: 0.6802 - accuracy: 0.7773 - val_loss: 6.0531 - val_accuracy: 0.1018\n",
      "Epoch 84/100\n",
      "375/375 [==============================] - 3s 7ms/step - loss: 0.6714 - accuracy: 0.7791 - val_loss: 6.0784 - val_accuracy: 0.1018\n",
      "Epoch 85/100\n",
      "375/375 [==============================] - 3s 7ms/step - loss: 0.6624 - accuracy: 0.7833 - val_loss: 6.1397 - val_accuracy: 0.1016\n",
      "Epoch 86/100\n",
      "375/375 [==============================] - 3s 7ms/step - loss: 0.6541 - accuracy: 0.7855 - val_loss: 6.1815 - val_accuracy: 0.0991\n",
      "Epoch 87/100\n",
      "375/375 [==============================] - 3s 7ms/step - loss: 0.6433 - accuracy: 0.7907 - val_loss: 6.2889 - val_accuracy: 0.0976\n",
      "Epoch 88/100\n",
      "375/375 [==============================] - 3s 7ms/step - loss: 0.6383 - accuracy: 0.7912 - val_loss: 6.3282 - val_accuracy: 0.1021\n",
      "Epoch 89/100\n",
      "375/375 [==============================] - 3s 7ms/step - loss: 0.6271 - accuracy: 0.7935 - val_loss: 6.4251 - val_accuracy: 0.1005\n",
      "Epoch 90/100\n",
      "375/375 [==============================] - 2s 7ms/step - loss: 0.6177 - accuracy: 0.7989 - val_loss: 6.4759 - val_accuracy: 0.1053\n",
      "Epoch 91/100\n",
      "375/375 [==============================] - 2s 7ms/step - loss: 0.6084 - accuracy: 0.8015 - val_loss: 6.5115 - val_accuracy: 0.1024\n",
      "Epoch 92/100\n",
      "375/375 [==============================] - 2s 7ms/step - loss: 0.6013 - accuracy: 0.8059 - val_loss: 6.5945 - val_accuracy: 0.1024\n",
      "Epoch 93/100\n",
      "375/375 [==============================] - 2s 7ms/step - loss: 0.5920 - accuracy: 0.8088 - val_loss: 6.6932 - val_accuracy: 0.1018\n",
      "Epoch 94/100\n",
      "375/375 [==============================] - 3s 7ms/step - loss: 0.5855 - accuracy: 0.8094 - val_loss: 6.6989 - val_accuracy: 0.0998\n",
      "Epoch 95/100\n",
      "375/375 [==============================] - 3s 7ms/step - loss: 0.5758 - accuracy: 0.8140 - val_loss: 6.7936 - val_accuracy: 0.1002\n",
      "Epoch 96/100\n",
      "375/375 [==============================] - 3s 7ms/step - loss: 0.5700 - accuracy: 0.8170 - val_loss: 6.8416 - val_accuracy: 0.1007\n",
      "Epoch 97/100\n",
      "375/375 [==============================] - 3s 7ms/step - loss: 0.5623 - accuracy: 0.8171 - val_loss: 6.9050 - val_accuracy: 0.1002\n",
      "Epoch 98/100\n",
      "375/375 [==============================] - 3s 7ms/step - loss: 0.5537 - accuracy: 0.8208 - val_loss: 6.9949 - val_accuracy: 0.1005\n",
      "Epoch 99/100\n",
      "375/375 [==============================] - 3s 7ms/step - loss: 0.5467 - accuracy: 0.8223 - val_loss: 7.0277 - val_accuracy: 0.1002\n",
      "Epoch 100/100\n",
      "375/375 [==============================] - 3s 7ms/step - loss: 0.5380 - accuracy: 0.8250 - val_loss: 7.1637 - val_accuracy: 0.1017\n"
     ]
    },
    {
     "data": {
      "text/plain": [
       "<keras.callbacks.History at 0x1cb195a4730>"
      ]
     },
     "execution_count": 5,
     "metadata": {},
     "output_type": "execute_result"
    }
   ],
   "source": [
    "(train_images, train_labels), _ = mnist.load_data()\n",
    "train_images = train_images.reshape((60000, 28 * 28))\n",
    "train_images = train_images.astype(\"float32\") / 255\n",
    "\n",
    "random_train_labels = train_labels[:]\n",
    "np.random.shuffle(random_train_labels)\n",
    "\n",
    "model = keras.Sequential([\n",
    "    layers.Dense(512, activation=\"relu\"),\n",
    "    layers.Dense(10, activation=\"softmax\")\n",
    "])\n",
    "model.compile(optimizer=\"rmsprop\",\n",
    "              loss=\"sparse_categorical_crossentropy\",\n",
    "              metrics=[\"accuracy\"])\n",
    "model.fit(train_images, random_train_labels,\n",
    "          epochs=100,\n",
    "          batch_size=128,\n",
    "          validation_split=0.2)"
   ]
  },
  {
   "cell_type": "markdown",
   "metadata": {},
   "source": [
    "In fact, you don’t even need to do this with MNIST data—you could just generate white noise inputs and random labels. You could fit a model on that, too, as long as it has enough parameters. It would just end up memorizing specific inputs, much like a Python dictionary. <br>\n",
    "If this is the case, then how come deep learning models generalize at all? Shouldn’t they just learn an ad hoc mapping between training inputs and targets, like a fancy dict? What expectation can we have that this mapping will work for new inputs? As it turns out, the nature of generalization in deep learning has rather little to do with deep learning models themselves, and much to do with the structure of information in the real world."
   ]
  },
  {
   "cell_type": "markdown",
   "metadata": {},
   "source": [
    "#### Evaluating machine learning models\n",
    "You can only control what you can observe. Since your goal is to develop models that can successfully generalize to new data, it’s essential to be able to reliably measure the generalization power of your model. In this section, I’ll formally introduce the different ways you can evaluate machine learning models. You’ve already seen most of them in action in the previous chapter.\n",
    "\n",
    "##### Training, validation, and test sets\n",
    "- Evaluating a model always boils down to splitting the available data into three sets: **training, validation, and test**. \n",
    "- You train on the training data and evaluate your model on the validation data. \n",
    "- Once your model is ready for prime time, you test it one final time on the test data, which is meant to be as similar as possible to production data.\n",
    "- Then you can deploy the model in production. <br>\n",
    "You may ask, why not have two sets: a training set and a test set? You’d train on the training data and evaluate on the test data. Much simpler! <br>\n",
    "\n",
    "The reason is that developing a model always involves tuning its configuration: for example, choosing the number of layers or the size of the layers (called the **hyperparameters** of the model, to distinguish them from the **parameters**, which are the network’s weights). You do this tuning by using as a feedback signal the performance of the model on the validation data. In essence, this tuning is a form of learning: a search for a good configuration in some parameter space. As a result, tuning the configuration of the model based on its performance on the validation set can quickly result in overfitting to the validation set, even though your model is never directly trained on it. <br>\n",
    "\n",
    "Central to this phenomenon is the notion of **information leaks**. Every time you tune a hyperparameter of your model based on the model’s performance on the validation set, some information about the validation data leaks into the model. If you do this only once, for one parameter, then very few bits of information will leak, and your validation set will remain reliable for evaluating the model. But if you repeat this many times—running one experiment, evaluating on the validation set, and modifying your model as a result—then you’ll leak an increasingly significant amount of information about the validation set into the model.\n",
    "\n",
    "At the end of the day, you’ll end up with a model that performs artificially well on the validation data, because that’s what you optimized it for. You care about performance on completely new data, not on the validation data, so you need to use a completely different, **never-before-seen dataset** to evaluate the model: **the test dataset**. <br>\n",
    "Your model shouldn’t have had access to any information about the test set, even indirectly. If anything about the model has been tuned based on test set performance, then your measure of generalization will be flawed.\n",
    "\n",
    "Splitting your data into training, validation, and test sets may seem straightforward, but there are a few advanced ways to do it that can come in handy when little data is available. Let’s review three classic evaluation recipes: simple holdout validation, K-fold validation, and iterated K-fold validation with shuffling. We’ll also talk about the use of common-sense baselines to check that your training is going somewhere."
   ]
  },
  {
   "cell_type": "markdown",
   "metadata": {},
   "source": [
    "##### SIMPLE HOLDOUT VALIDATION\n",
    "Set apart some fraction of your data as your test set. Train on the remaining data, and evaluate on the test set. As you saw in the previous sections, in order to prevent information leaks, you shouldn’t tune your model based on the test set, and therefore you should also reserve a validation set. <br>\n",
    "Schematically, holdout validation looks like figure 5.12.\n",
    "\n",
    "![](./images/5.12.png)\n",
    "\n",
    "##### Holdout validation (note that labels are omitted for simplicity)\n",
    "\n",
    "```python\n",
    "num_validation_samples = 10000\n",
    "np.random.shuffle(data) # Shuffling the data is usually appropriate.\n",
    "validation_data = data[:num_validation_samples] # Defines the validation set\n",
    "training_data = data[num_validation_samples:] # Defines the training set\n",
    "model = get_model()\n",
    "model.fit(training_data, ...)\n",
    "validation_score = model.evaluate(validation_data, ...)\n",
    "# Trains a model on the training data, and evaluates it on the validation data\n",
    "... # At this point you can tune your model, retrain it, evaluate it, tune it again.\n",
    "model = get_model()\n",
    "model.fit(np.concatenate([training_data,\n",
    "validation_data]), ...)\n",
    "test_score = model.evaluate(test_data, ...)\n",
    "# Once you’ve tuned your hyperparameters, it’s common to train your final model from scratch on all non-test data available.\n",
    "```\n",
    "\n",
    "This is the simplest evaluation protocol, and it suffers from one flaw: if little data is available, then your validation and test sets may contain too few samples to be statistically representative of the data at hand. This is easy to recognize: if different random shuffling rounds of the data before splitting end up yielding very different measures of model performance, then you’re having this issue. **K-fold validation** and **iterated K-fold validation** are two ways to address this, as discussed next."
   ]
  },
  {
   "cell_type": "markdown",
   "metadata": {},
   "source": [
    "##### K-FOLD VALIDATION\n",
    "With this approach, you split your data into K partitions of equal size. For each partition i, train a model on the remaining K - 1 partitions, and evaluate it on partition i. <br>\n",
    "Your final score is then the averages of the K scores obtained. This method is helpful when the performance of your model shows significant variance based on your train-test split. Like holdout validation, this method doesn’t exempt you from using a distinct validation set for model calibration. <br>\n",
    "Schematically, K-fold cross-validation looks like figure 5.13.\n",
    "\n",
    "![](./images/5.13.png)\n",
    "\n",
    "##### K-fold cross-validation (note that labels are omitted for simplicity)\n",
    "\n",
    "```python\n",
    "k = 3\n",
    "num_validation_samples = len(data) // k\n",
    "np.random.shuffle(data)\n",
    "validation_scores = []\n",
    "for fold in range(k):\n",
    "    validation_data = data[num_validation_samples * fold:  # Selects the validation data partition\n",
    "        num_validation_samples * (fold + 1)]\n",
    "    training_data = np.concatenate(\n",
    "        data[:num_validation_samples * fold],\n",
    "        data[num_validation_samples * (fold + 1):])\n",
    "    # Uses the remainder of the data as training data. Note that the + operator represents list concatenation, not summation.\n",
    "    model = get_model() # Creates a brand-new instance of the model (untrained)\n",
    "    model.fit(training_data, ...)\n",
    "    validation_score = model.evaluate(validation_data, ...)\n",
    "    validation_scores.append(validation_score)\n",
    "validation_score = np.average(validation_scores) # Validation score: average of the validation scores of the k folds\n",
    "model = get_model()\n",
    "model.fit(data, ...) # Trains the final model on all nontest data available\n",
    "test_score = model.evaluate(test_data, ...)\n",
    "```"
   ]
  },
  {
   "cell_type": "markdown",
   "metadata": {},
   "source": [
    "##### ITERATED K-FOLD VALIDATION WITH SHUFFLING\n",
    "This one is for situations in which you have relatively little data available and you need to evaluate your model as precisely as possible. I’ve found it to be extremely helpful in Kaggle competitions. It consists of applying K-fold validation multiple times, shuffling the data every time before splitting it K ways. The final score is the average of the scores obtained at each run of K-fold validation. Note that you end up training and evaluating P * K models (where P is the number of iterations you use), which can be very expensive."
   ]
  },
  {
   "cell_type": "markdown",
   "metadata": {},
   "source": [
    "##### Things to keep in mind about model evaluation\n",
    "Keep an eye out for the following when you’re choosing an evaluation protocol:\n",
    "- **Data representativeness**—You want both your training set and test set to be representative of the data at hand. For instance, if you’re trying to classify images of digits, and you’re starting from an array of samples where the samples are ordered by their class, taking the first 80% of the array as your training set and the remaining 20% as your test set will result in your training set containing only classes 0–7, whereas your test set will contain only classes 8–9. This seems like a ridiculous mistake, but it’s surprisingly common. For this reason, you usually should **randomly shuffle your data before splitting it into training and test sets.**\n",
    "- **The arrow of time**—If you’re trying to **predict the future given the past** (for example, tomorrow’s weather, stock movements, and so on), **you should not randomly shuffle your data before splitting it**, because doing so will create a temporal leak: your model will effectively be trained on data from the future. In such situations, you should **always make sure all data in your test set is posterior to the data in the training set.**\n",
    "- **Redundancy in your data**—If some data points in your data **appear twice** (fairly common with real-world data), then shuffling the data and splitting it into a training set and a validation set will result in redundancy between the training and validation sets. In effect, you’ll be testing on part of your training data, which is the worst thing you can do! **Make sure your training set and validation set are disjoint.**\n",
    "\n",
    "Having a reliable way to evaluate the performance of your model is how you’ll be able to monitor the tension at the heart of machine learning—between optimization and generalization, underfitting and overfitting."
   ]
  },
  {
   "cell_type": "markdown",
   "metadata": {},
   "source": [
    "#### Improving model fit\n",
    "To achieve the perfect fit, you must first overfit. Since you don’t know in advance where the boundary lies, you must cross it to find it. Thus, your initial goal as you start working on a problem is to achieve a model that shows some generalization power and that is able to overfit. Once you have such a model, you’ll focus on refining generalization by fighting overfitting. <br>\n",
    "There are three common problems you’ll encounter at this stage:\n",
    "- Training doesn’t get started: your training loss doesn’t go down over time.\n",
    "- Training gets started just fine, but your model doesn’t meaningfully generalize: you can’t beat the common-sense baseline you set.\n",
    "- Training and validation loss both go down over time, and you can beat your baseline, but you don’t seem to be able to overfit, which indicates you’re still underfitting.\n",
    "\n",
    "Let’s see how you can address these issues to achieve the first big milestone of a machine learning project: getting a model that has some generalization power (it can beat a trivial baseline) and that is able to overfit."
   ]
  },
  {
   "cell_type": "markdown",
   "metadata": {},
   "source": [
    "##### Tuning key gradient descent parameters\n",
    "Sometimes training doesn’t get started, or it stalls too early. Your loss is stuck. This is always something you can overcome: remember that you can fit a model to random data. Even if nothing about your problem makes sense, you should still be able to train something—if only by memorizing the training data. <br>\n",
    "When this happens, it’s always a problem with the configuration of the gradient descent process: your choice of optimizer, the distribution of initial values in the weights of your model, your learning rate, or your batch size. All these parameters are interdependent, and as such it is usually sufficient to tune the learning rate and the batch size while keeping the rest of the parameters constant. <br>\n",
    "Let’s look at a concrete example: let’s train the MNIST model from chapter 2 with an inappropriately large learning rate of value 1.\n",
    "\n",
    "##### Training an MNIST model with an incorrectly high learning rate"
   ]
  },
  {
   "cell_type": "code",
   "execution_count": 6,
   "metadata": {},
   "outputs": [
    {
     "name": "stdout",
     "output_type": "stream",
     "text": [
      "Epoch 1/10\n",
      "375/375 [==============================] - 3s 7ms/step - loss: 850.0276 - accuracy: 0.3504 - val_loss: 2.2311 - val_accuracy: 0.2449\n",
      "Epoch 2/10\n",
      "375/375 [==============================] - 2s 6ms/step - loss: 4.6690 - accuracy: 0.2246 - val_loss: 2.4064 - val_accuracy: 0.2244\n",
      "Epoch 3/10\n",
      "375/375 [==============================] - 2s 6ms/step - loss: 2.8338 - accuracy: 0.2365 - val_loss: 3.8123 - val_accuracy: 0.2853\n",
      "Epoch 4/10\n",
      "375/375 [==============================] - 2s 6ms/step - loss: 2.9162 - accuracy: 0.2397 - val_loss: 2.3583 - val_accuracy: 0.2748\n",
      "Epoch 5/10\n",
      "375/375 [==============================] - 2s 6ms/step - loss: 3.4884 - accuracy: 0.2605 - val_loss: 2.1565 - val_accuracy: 0.2674\n",
      "Epoch 6/10\n",
      "375/375 [==============================] - 2s 6ms/step - loss: 2.6663 - accuracy: 0.2474 - val_loss: 2.4233 - val_accuracy: 0.2835\n",
      "Epoch 7/10\n",
      "375/375 [==============================] - 2s 6ms/step - loss: 2.6693 - accuracy: 0.2406 - val_loss: 2.2915 - val_accuracy: 0.2049\n",
      "Epoch 8/10\n",
      "375/375 [==============================] - 3s 7ms/step - loss: 4.6118 - accuracy: 0.2454 - val_loss: 2.7611 - val_accuracy: 0.2625\n",
      "Epoch 9/10\n",
      "375/375 [==============================] - 3s 7ms/step - loss: 2.4600 - accuracy: 0.2525 - val_loss: 2.1521 - val_accuracy: 0.2457\n",
      "Epoch 10/10\n",
      "375/375 [==============================] - 2s 7ms/step - loss: 2.6444 - accuracy: 0.2287 - val_loss: 2.0511 - val_accuracy: 0.2472\n"
     ]
    },
    {
     "data": {
      "text/plain": [
       "<keras.callbacks.History at 0x1cb19685fd0>"
      ]
     },
     "execution_count": 6,
     "metadata": {},
     "output_type": "execute_result"
    }
   ],
   "source": [
    "(train_images, train_labels), _ = mnist.load_data()\n",
    "train_images = train_images.reshape((60000, 28 * 28))\n",
    "train_images = train_images.astype(\"float32\") / 255\n",
    "\n",
    "model = keras.Sequential([\n",
    "    layers.Dense(512, activation=\"relu\"),\n",
    "    layers.Dense(10, activation=\"softmax\")\n",
    "])\n",
    "model.compile(optimizer=keras.optimizers.RMSprop(1.),\n",
    "              loss=\"sparse_categorical_crossentropy\",\n",
    "              metrics=[\"accuracy\"])\n",
    "model.fit(train_images, train_labels,\n",
    "          epochs=10,\n",
    "          batch_size=128,\n",
    "          validation_split=0.2)"
   ]
  },
  {
   "cell_type": "markdown",
   "metadata": {},
   "source": [
    "The model quickly reaches a training and validation accuracy in the 30%–40% range, but cannot get past that. Let’s try to lower the learning rate to a more reasonable value of 1e-2.\n",
    "##### The same model with a more appropriate learning rate"
   ]
  },
  {
   "cell_type": "code",
   "execution_count": 7,
   "metadata": {},
   "outputs": [
    {
     "name": "stdout",
     "output_type": "stream",
     "text": [
      "Epoch 1/10\n",
      "375/375 [==============================] - 3s 7ms/step - loss: 0.3776 - accuracy: 0.9130 - val_loss: 0.1412 - val_accuracy: 0.9627\n",
      "Epoch 2/10\n",
      "375/375 [==============================] - 3s 7ms/step - loss: 0.1413 - accuracy: 0.9640 - val_loss: 0.1630 - val_accuracy: 0.9630\n",
      "Epoch 3/10\n",
      "375/375 [==============================] - 3s 7ms/step - loss: 0.1162 - accuracy: 0.9730 - val_loss: 0.1516 - val_accuracy: 0.9727\n",
      "Epoch 4/10\n",
      "375/375 [==============================] - 3s 7ms/step - loss: 0.1003 - accuracy: 0.9779 - val_loss: 0.2197 - val_accuracy: 0.9687\n",
      "Epoch 5/10\n",
      "375/375 [==============================] - 3s 7ms/step - loss: 0.0869 - accuracy: 0.9820 - val_loss: 0.2183 - val_accuracy: 0.9703\n",
      "Epoch 6/10\n",
      "375/375 [==============================] - 3s 7ms/step - loss: 0.0757 - accuracy: 0.9850 - val_loss: 0.3012 - val_accuracy: 0.9607\n",
      "Epoch 7/10\n",
      "375/375 [==============================] - 2s 6ms/step - loss: 0.0738 - accuracy: 0.9864 - val_loss: 0.2440 - val_accuracy: 0.9732\n",
      "Epoch 8/10\n",
      "375/375 [==============================] - 2s 6ms/step - loss: 0.0672 - accuracy: 0.9876 - val_loss: 0.2502 - val_accuracy: 0.9738\n",
      "Epoch 9/10\n",
      "375/375 [==============================] - 2s 7ms/step - loss: 0.0608 - accuracy: 0.9893 - val_loss: 0.2622 - val_accuracy: 0.9759\n",
      "Epoch 10/10\n",
      "375/375 [==============================] - 3s 7ms/step - loss: 0.0550 - accuracy: 0.9906 - val_loss: 0.3420 - val_accuracy: 0.9725\n"
     ]
    },
    {
     "data": {
      "text/plain": [
       "<keras.callbacks.History at 0x1cb198428e0>"
      ]
     },
     "execution_count": 7,
     "metadata": {},
     "output_type": "execute_result"
    }
   ],
   "source": [
    "model = keras.Sequential([\n",
    "    layers.Dense(512, activation=\"relu\"),\n",
    "    layers.Dense(10, activation=\"softmax\")\n",
    "])\n",
    "model.compile(optimizer=keras.optimizers.RMSprop(1e-2),\n",
    "              loss=\"sparse_categorical_crossentropy\",\n",
    "              metrics=[\"accuracy\"])\n",
    "model.fit(train_images, train_labels,\n",
    "          epochs=10,\n",
    "          batch_size=128,\n",
    "          validation_split=0.2)"
   ]
  },
  {
   "cell_type": "markdown",
   "metadata": {},
   "source": [
    "The model is now able to train.\n",
    "If you find yourself in a similar situation, try\n",
    "- **Lowering or increasing the learning rate.** A learning rate that is too high may lead to updates that vastly overshoot a proper fit, like in the preceding example, and a learning rate that is too low may make training so slow that it appears to stall.\n",
    "- **Increasing the batch size.** A batch with more samples will lead to gradients that are more informative and less noisy (lower variance).\n",
    "\n",
    "You will, eventually, find a configuration that gets training started."
   ]
  },
  {
   "cell_type": "markdown",
   "metadata": {},
   "source": [
    "##### Leveraging better architecture priors\n",
    "You have a model that fits, but for some reason your validation metrics aren’t improving at all. They remain no better than what a random classifier would achieve: your model trains but doesn’t generalize. What’s going on? <br>\n",
    "This is perhaps the worst machine learning situation you can find yourself in. It indicates that something is fundamentally wrong with your approach, and it may not be easy to tell what. Here are some tips.\n",
    "\n",
    "First, it may be that the input data you’re using simply doesn’t contain sufficient information to predict your targets: the problem as formulated is not solvable. This is what happened earlier when we tried to fit an MNIST model where the labels were shuffled: the model would train just fine, but validation accuracy would stay stuck at 10%, because it was plainly impossible to generalize with such a dataset. <br>\n",
    "It may also be that the kind of model you’re using is not suited for the problem at hand. For instance, in chapter 10, you’ll see an example of a timeseries prediction problem where a densely connected architecture isn’t able to beat a trivial baseline, whereas a more appropriate recurrent architecture does manage to generalize well. <br>\n",
    "Using a model that makes the right assumptions about the problem is essential to achieve generalization: you should leverage the right architecture priors.\n",
    "\n",
    "In the following chapters, you’ll learn about the best architectures to use for a variety of data modalities—images, text, timeseries, and so on. In general, you should always make sure to read up on architecture best practices for the kind of task you’re attacking—chances are you’re not the first person to attempt it."
   ]
  },
  {
   "cell_type": "markdown",
   "metadata": {},
   "source": [
    "##### Increasing model capacity\n",
    "If you manage to get to a model that fits, where validation metrics are going down, and that seems to achieve at least some level of generalization power, congratulations: you’re almost there. Next, you need to get your model to start overfitting. <br>\n",
    "Consider the following small model—a simple logistic regression—trained on MNIST pixels.\n",
    "\n",
    "##### A simple logistic regression on MNIST"
   ]
  },
  {
   "cell_type": "code",
   "execution_count": 8,
   "metadata": {},
   "outputs": [
    {
     "name": "stdout",
     "output_type": "stream",
     "text": [
      "Epoch 1/20\n",
      "375/375 [==============================] - 1s 2ms/step - loss: 0.6601 - accuracy: 0.8376 - val_loss: 0.3603 - val_accuracy: 0.9059\n",
      "Epoch 2/20\n",
      "375/375 [==============================] - 1s 1ms/step - loss: 0.3509 - accuracy: 0.9036 - val_loss: 0.3078 - val_accuracy: 0.9149\n",
      "Epoch 3/20\n",
      "375/375 [==============================] - 1s 2ms/step - loss: 0.3154 - accuracy: 0.9125 - val_loss: 0.2924 - val_accuracy: 0.9170\n",
      "Epoch 4/20\n",
      "375/375 [==============================] - 1s 2ms/step - loss: 0.2993 - accuracy: 0.9168 - val_loss: 0.2812 - val_accuracy: 0.9219\n",
      "Epoch 5/20\n",
      "375/375 [==============================] - 1s 2ms/step - loss: 0.2896 - accuracy: 0.9188 - val_loss: 0.2769 - val_accuracy: 0.9237\n",
      "Epoch 6/20\n",
      "375/375 [==============================] - 1s 2ms/step - loss: 0.2828 - accuracy: 0.9208 - val_loss: 0.2720 - val_accuracy: 0.9238\n",
      "Epoch 7/20\n",
      "375/375 [==============================] - 1s 2ms/step - loss: 0.2779 - accuracy: 0.9221 - val_loss: 0.2710 - val_accuracy: 0.9252\n",
      "Epoch 8/20\n",
      "375/375 [==============================] - 1s 2ms/step - loss: 0.2743 - accuracy: 0.9238 - val_loss: 0.2685 - val_accuracy: 0.9263\n",
      "Epoch 9/20\n",
      "375/375 [==============================] - 1s 2ms/step - loss: 0.2710 - accuracy: 0.9245 - val_loss: 0.2672 - val_accuracy: 0.9270\n",
      "Epoch 10/20\n",
      "375/375 [==============================] - 1s 2ms/step - loss: 0.2686 - accuracy: 0.9260 - val_loss: 0.2645 - val_accuracy: 0.9289\n",
      "Epoch 11/20\n",
      "375/375 [==============================] - 1s 2ms/step - loss: 0.2665 - accuracy: 0.9262 - val_loss: 0.2666 - val_accuracy: 0.9280\n",
      "Epoch 12/20\n",
      "375/375 [==============================] - 1s 1ms/step - loss: 0.2647 - accuracy: 0.9270 - val_loss: 0.2632 - val_accuracy: 0.9299\n",
      "Epoch 13/20\n",
      "375/375 [==============================] - 1s 1ms/step - loss: 0.2628 - accuracy: 0.9275 - val_loss: 0.2625 - val_accuracy: 0.9301\n",
      "Epoch 14/20\n",
      "375/375 [==============================] - 1s 2ms/step - loss: 0.2618 - accuracy: 0.9279 - val_loss: 0.2629 - val_accuracy: 0.9281\n",
      "Epoch 15/20\n",
      "375/375 [==============================] - 1s 1ms/step - loss: 0.2599 - accuracy: 0.9290 - val_loss: 0.2634 - val_accuracy: 0.9280\n",
      "Epoch 16/20\n",
      "375/375 [==============================] - 1s 1ms/step - loss: 0.2594 - accuracy: 0.9292 - val_loss: 0.2633 - val_accuracy: 0.9293\n",
      "Epoch 17/20\n",
      "375/375 [==============================] - 1s 2ms/step - loss: 0.2580 - accuracy: 0.9291 - val_loss: 0.2617 - val_accuracy: 0.9299\n",
      "Epoch 18/20\n",
      "375/375 [==============================] - 1s 2ms/step - loss: 0.2572 - accuracy: 0.9298 - val_loss: 0.2628 - val_accuracy: 0.9301\n",
      "Epoch 19/20\n",
      "375/375 [==============================] - 1s 2ms/step - loss: 0.2563 - accuracy: 0.9304 - val_loss: 0.2623 - val_accuracy: 0.9307\n",
      "Epoch 20/20\n",
      "375/375 [==============================] - 1s 2ms/step - loss: 0.2557 - accuracy: 0.9300 - val_loss: 0.2619 - val_accuracy: 0.9305\n"
     ]
    }
   ],
   "source": [
    "model = keras.Sequential([layers.Dense(10, activation=\"softmax\")])\n",
    "model.compile(optimizer=\"rmsprop\",\n",
    "              loss=\"sparse_categorical_crossentropy\",\n",
    "              metrics=[\"accuracy\"])\n",
    "history_small_model = model.fit(\n",
    "    train_images, train_labels,\n",
    "    epochs=20,\n",
    "    batch_size=128,\n",
    "    validation_split=0.2)"
   ]
  },
  {
   "cell_type": "code",
   "execution_count": 13,
   "metadata": {},
   "outputs": [
    {
     "data": {
      "text/plain": [
       "<matplotlib.legend.Legend at 0x1cb19908430>"
      ]
     },
     "execution_count": 13,
     "metadata": {},
     "output_type": "execute_result"
    },
    {
     "data": {
      "image/png": "[encoded data removed]",
      "text/plain": [
       "<Figure size 432x288 with 1 Axes>"
      ]
     },
     "metadata": {
      "needs_background": "light"
     },
     "output_type": "display_data"
    }
   ],
   "source": [
    "import matplotlib.pyplot as plt\n",
    "val_loss = history_small_model.history[\"val_loss\"]\n",
    "epochs = range(1, 21)\n",
    "plt.plot(epochs, val_loss, \"b--\",\n",
    "label=\"Validation loss\")\n",
    "plt.title(\"Effect of insufficient model capacity on validation loss\")\n",
    "plt.xlabel(\"Epochs\")\n",
    "plt.ylabel(\"Loss\")\n",
    "plt.legend()"
   ]
  },
  {
   "cell_type": "markdown",
   "metadata": {},
   "source": [
    "Validation metrics seem to stall, or to improve very slowly, instead of peaking and reversing course. The validation loss goes to 0.26 and just stays there. You can fit, but you can’t clearly overfit, even after many iterations over the training data. You’re likely to encounter similar curves often in your career. <br>\n",
    "Remember that it should always be possible to overfit. Much like the problem where the training loss doesn’t go down, this is an issue that can always be solved. **If you can’t seem to be able to overfit**, it’s likely a problem with the representational power of your model: **you’re going to need a bigger model**, one with more capacity, that is to say, one able to store more information. You can increase representational power by adding more layers, using bigger layers (layers with more parameters), or using kinds of layers that are more appropriate for the problem at hand (better architecture priors).\n",
    "\n",
    "Let’s try training a bigger model, one with two intermediate layers with 96 units each:"
   ]
  },
  {
   "cell_type": "code",
   "execution_count": 14,
   "metadata": {},
   "outputs": [
    {
     "name": "stdout",
     "output_type": "stream",
     "text": [
      "Epoch 1/20\n",
      "375/375 [==============================] - 2s 3ms/step - loss: 0.3526 - accuracy: 0.9007 - val_loss: 0.1913 - val_accuracy: 0.9439\n",
      "Epoch 2/20\n",
      "375/375 [==============================] - 1s 2ms/step - loss: 0.1589 - accuracy: 0.9528 - val_loss: 0.1341 - val_accuracy: 0.9607\n",
      "Epoch 3/20\n",
      "375/375 [==============================] - 1s 2ms/step - loss: 0.1127 - accuracy: 0.9666 - val_loss: 0.1159 - val_accuracy: 0.9659\n",
      "Epoch 4/20\n",
      "375/375 [==============================] - 1s 2ms/step - loss: 0.0865 - accuracy: 0.9736 - val_loss: 0.1022 - val_accuracy: 0.9697\n",
      "Epoch 5/20\n",
      "375/375 [==============================] - 1s 2ms/step - loss: 0.0694 - accuracy: 0.9786 - val_loss: 0.1012 - val_accuracy: 0.9697\n",
      "Epoch 6/20\n",
      "375/375 [==============================] - 1s 2ms/step - loss: 0.0567 - accuracy: 0.9833 - val_loss: 0.0963 - val_accuracy: 0.9730\n",
      "Epoch 7/20\n",
      "375/375 [==============================] - 1s 3ms/step - loss: 0.0479 - accuracy: 0.9859 - val_loss: 0.0998 - val_accuracy: 0.9718\n",
      "Epoch 8/20\n",
      "375/375 [==============================] - 1s 2ms/step - loss: 0.0402 - accuracy: 0.9878 - val_loss: 0.1008 - val_accuracy: 0.9728\n",
      "Epoch 9/20\n",
      "375/375 [==============================] - 1s 3ms/step - loss: 0.0337 - accuracy: 0.9896 - val_loss: 0.0949 - val_accuracy: 0.9758\n",
      "Epoch 10/20\n",
      "375/375 [==============================] - 1s 3ms/step - loss: 0.0283 - accuracy: 0.9918 - val_loss: 0.1050 - val_accuracy: 0.9744\n",
      "Epoch 11/20\n",
      "375/375 [==============================] - 1s 2ms/step - loss: 0.0236 - accuracy: 0.9923 - val_loss: 0.1098 - val_accuracy: 0.9729\n",
      "Epoch 12/20\n",
      "375/375 [==============================] - 1s 3ms/step - loss: 0.0209 - accuracy: 0.9936 - val_loss: 0.1037 - val_accuracy: 0.9756\n",
      "Epoch 13/20\n",
      "375/375 [==============================] - 1s 2ms/step - loss: 0.0176 - accuracy: 0.9945 - val_loss: 0.1137 - val_accuracy: 0.9733\n",
      "Epoch 14/20\n",
      "375/375 [==============================] - 1s 3ms/step - loss: 0.0151 - accuracy: 0.9955 - val_loss: 0.1078 - val_accuracy: 0.9755\n",
      "Epoch 15/20\n",
      "375/375 [==============================] - 1s 2ms/step - loss: 0.0124 - accuracy: 0.9965 - val_loss: 0.1247 - val_accuracy: 0.9759\n",
      "Epoch 16/20\n",
      "375/375 [==============================] - 1s 2ms/step - loss: 0.0108 - accuracy: 0.9966 - val_loss: 0.1240 - val_accuracy: 0.9729\n",
      "Epoch 17/20\n",
      "375/375 [==============================] - 1s 2ms/step - loss: 0.0094 - accuracy: 0.9970 - val_loss: 0.1345 - val_accuracy: 0.9743\n",
      "Epoch 18/20\n",
      "375/375 [==============================] - 1s 2ms/step - loss: 0.0077 - accuracy: 0.9977 - val_loss: 0.1334 - val_accuracy: 0.9727\n",
      "Epoch 19/20\n",
      "375/375 [==============================] - 1s 2ms/step - loss: 0.0075 - accuracy: 0.9980 - val_loss: 0.1352 - val_accuracy: 0.9757\n",
      "Epoch 20/20\n",
      "375/375 [==============================] - 1s 3ms/step - loss: 0.0061 - accuracy: 0.9980 - val_loss: 0.1535 - val_accuracy: 0.9743\n"
     ]
    }
   ],
   "source": [
    "model = keras.Sequential([\n",
    "    layers.Dense(96, activation=\"relu\"),\n",
    "    layers.Dense(96, activation=\"relu\"),\n",
    "    layers.Dense(10, activation=\"softmax\"),\n",
    "])\n",
    "model.compile(optimizer=\"rmsprop\",\n",
    "              loss=\"sparse_categorical_crossentropy\",\n",
    "              metrics=[\"accuracy\"])\n",
    "history_large_model = model.fit(\n",
    "    train_images, train_labels,\n",
    "    epochs=20,\n",
    "    batch_size=128,\n",
    "    validation_split=0.2)"
   ]
  },
  {
   "cell_type": "markdown",
   "metadata": {},
   "source": [
    "The validation curve now looks exactly like it should: the model fits fast and starts overfitting after 8 epochs."
   ]
  },
  {
   "cell_type": "code",
   "execution_count": 15,
   "metadata": {},
   "outputs": [
    {
     "data": {
      "text/plain": [
       "<matplotlib.legend.Legend at 0x1cb230c9790>"
      ]
     },
     "execution_count": 15,
     "metadata": {},
     "output_type": "execute_result"
    },
    {
     "data": {
      "image/png": "[encoded data removed]",
      "text/plain": [
       "<Figure size 432x288 with 1 Axes>"
      ]
     },
     "metadata": {
      "needs_background": "light"
     },
     "output_type": "display_data"
    }
   ],
   "source": [
    "import matplotlib.pyplot as plt\n",
    "val_loss = history_large_model.history[\"val_loss\"]\n",
    "epochs = range(1, 21)\n",
    "plt.plot(epochs, val_loss, \"b--\",\n",
    "         label=\"Validation loss\")\n",
    "plt.title(\"Effect of insufficient model capacity on validation loss\")\n",
    "plt.xlabel(\"Epochs\")\n",
    "plt.ylabel(\"Loss\")\n",
    "plt.legend()"
   ]
  },
  {
   "cell_type": "markdown",
   "metadata": {},
   "source": [
    "#### Improving generalization\n",
    "Once your model has shown itself to have some generalization power and to be able to overfit, it’s time to switch your focus to maximizing generalization.\n",
    "\n",
    "##### Dataset curation\n",
    "You’ve already learned that generalization in deep learning originates from the latent structure of your data. If your data makes it possible to smoothly interpolate between samples, you will be able to train a deep learning model that generalizes. If your problem is overly noisy or fundamentally discrete, like, say, list sorting, deep learning will not help you. Deep learning is curve fitting, not magic. <br>\n",
    "As such, it is essential that you make sure that you’re working with an appropriate dataset. Spending more effort and money on data collection almost always yields a much greater return on investment than spending the same on developing a better model.\n",
    "- Make sure you have enough data. Remember that you need a **dense sampling** of the input-cross-output space. **More data will yield a better model.** Sometimes, problems that seem impossible at first become solvable with a larger dataset.\n",
    "- Minimize labeling errors—visualize your inputs to check for anomalies, and proofread your labels.\n",
    "- Clean your data and deal with missing values (we’ll cover this in the next chapter).\n",
    "- If you have many features and you aren’t sure which ones are actually useful, do feature selection.\n",
    "\n",
    "A particularly important way to improve the generalization potential of your data is **feature engineering**. For most machine learning problems, feature engineering is a key ingredient for success. Let’s take a look."
   ]
  },
  {
   "cell_type": "markdown",
   "metadata": {},
   "source": [
    "##### Feature engineering\n",
    "**Feature engineering** is the process of using your own knowledge about the data and about the machine learning algorithm at hand (in this case, a neural network) to make the algorithm work better by applying hardcoded (non-learned) transformations to the data before it goes into the model. In many cases, it isn’t reasonable to expect a machine learning model to be able to learn from completely arbitrary data. The data needs to be presented to the model in a way that will make the model’s job easier.\n",
    "\n",
    "Let’s look at an intuitive example. Suppose you’re trying to develop a model that can take as input an image of a clock and can output the time of day (see figure 5.16).\n",
    "\n",
    "![](./images/5.16.png)\n",
    "\n",
    "If you choose to use the raw pixels of the image as input data, you have a difficult machine learning problem on your hands. You’ll need a convolutional neural network to solve it, and you’ll have to expend quite a bit of computational resources to train the network. <br>\n",
    "But if you already understand the problem at a high level (you understand how humans read time on a clock face), you can come up with much better input features for a machine learning algorithm: for instance, it’s easy to write a five-line Python script to follow the black pixels of the clock hands and output the (x, y) coordinates of the tip of each hand. Then a simple machine learning algorithm can learn to associate these coordinates with the appropriate time of day. <br>\n",
    "You can go even further: do a coordinate change, and express the (x, y) coordinates as polar coordinates with regard to the center of the image. Your input will become the angle **theta** of each clock hand. At this point, your features are making the problem so easy that no machine learning is required; a simple rounding operation and dictionary lookup are enough to recover the approximate time of day.\n",
    "\n",
    "That’s the essence of feature engineering: making a problem easier by expressing it in a simpler way. Make the latent manifold smoother, simpler, better organized. Doing so usually requires understanding the problem in depth.\n",
    "\n",
    "Before deep learning, feature engineering used to be the most important part of the machine learning workflow, because classical shallow algorithms didn’t have hypothesis spaces rich enough to learn useful features by themselves. The way you presented the data to the algorithm was absolutely critical to its success. For instance, before convolutional neural networks became successful on the MNIST digit-classification problem, solutions were typically based on hardcoded features such as the number of loops in a digit image, the height of each digit in an image, a histogram of pixel values, and so on. <br>\n",
    "Fortunately, modern deep learning removes the need for most feature engineering, because neural networks are capable of automatically extracting useful features from raw data. Does this mean you don’t have to worry about feature engineering as long as you’re using deep neural networks? No, for two reasons:\n",
    "- Good features still allow you to solve problems more elegantly while using fewer resources. For instance, it would be ridiculous to solve the problem of reading a clock face using a convolutional neural network.\n",
    "- Good features let you solve a problem with far less data. The ability of deep learning models to learn features on their own relies on having lots of training data available; if you have only a few samples, the information value in their features becomes critical."
   ]
  },
  {
   "cell_type": "markdown",
   "metadata": {},
   "source": [
    "##### Using early stopping\n",
    "In deep learning, we always use models that are vastly overparameterized: they have way more degrees of freedom than the minimum necessary to fit to the latent manifold of the data. This overparameterization is not an issue, because you never fully fit a deep learning model. Such a fit wouldn’t generalize at all. You will always interrupt training long before you’ve reached the minimum possible training loss. <br>\n",
    "Finding the exact point during training where you’ve reached the most generalizable fit—the exact boundary between an underfit curve and an overfit curve—is one of the most effective things you can do to improve generalization. <br>\n",
    "In the examples in the previous chapter, we would start by training our models for longer than needed to figure out the number of epochs that yielded the best validation metrics, and then we would retrain a new model for exactly that number of epochs. This is pretty standard, but it requires you to do redundant work, which can sometimes be expensive. Naturally, you could just save your model at the end of each epoch, and once you’ve found the best epoch, reuse the closest saved model you have.\n",
    "\n",
    "In Keras, it’s typical to do this with an **EarlyStopping** callback, which will interrupt training as soon as validation metrics have stopped improving, while remembering the best known model state. You’ll learn to use callbacks in chapter 7."
   ]
  },
  {
   "cell_type": "markdown",
   "metadata": {},
   "source": [
    "##### Regularizing your model\n",
    "Regularization techniques are a set of best practices that actively impede the model’s ability to fit perfectly to the training data, with the goal of making the model perform better during validation. This is called “regularizing” the model, because it tends to make the model simpler, more “regular,” its curve smoother, more “generic”; thus it is less specific to the training set and better able to generalize by more closely approximating the latent manifold of the data. <br>\n",
    "Keep in mind that regularizing a model is a process that should always be guided by an accurate evaluation procedure. You will only achieve generalization if you can\n",
    "measure it. <br>\n",
    "Let’s review some of the most common regularization techniques and apply them in practice to improve the movie-classification model from chapter 4.\n",
    "\n",
    "##### REDUCING THE NETWORK’S SIZE\n",
    "You’ve already learned that a model that is too small will not overfit. The simplest way to mitigate overfitting is to **reduce the size of the model (the number of learnable parameters in the model, determined by the number of layers and the number of units per layer)**. If the model has limited memorization resources, it won’t be able to simply memorize its training data; thus, in order to minimize its loss, it will have to resort to learning compressed representations that have predictive power regarding the targets—precisely the type of representations we’re interested in. **At the same time, keep in mind that you should use models that have enough parameters that they don’t underfit: your model shouldn’t be starved for memorization resources.** There is a compromise to be found between too much capacity and not enough capacity. <br>\n",
    "Unfortunately, there is no magical formula to determine the right number of layers or the right size for each layer. You must evaluate an array of different architectures (on your validation set, not on your test set, of course) in order to find the correct model size for your data. **The general workflow for finding an appropriate model size is to start with relatively few layers and parameters, and increase the size of the layers or add new layers until you see diminishing returns with regard to validation loss.**\n",
    "\n",
    "Let’s try this on the movie-review classification model. The following listing shows our original model.\n",
    "\n",
    "##### Original model"
   ]
  },
  {
   "cell_type": "code",
   "execution_count": 16,
   "metadata": {},
   "outputs": [
    {
     "name": "stdout",
     "output_type": "stream",
     "text": [
      "Epoch 1/20\n",
      "30/30 [==============================] - 2s 33ms/step - loss: 0.5184 - accuracy: 0.7773 - val_loss: 0.3863 - val_accuracy: 0.8678\n",
      "Epoch 2/20\n",
      "30/30 [==============================] - 0s 14ms/step - loss: 0.3069 - accuracy: 0.9019 - val_loss: 0.3443 - val_accuracy: 0.8594\n",
      "Epoch 3/20\n",
      "30/30 [==============================] - 0s 14ms/step - loss: 0.2232 - accuracy: 0.9280 - val_loss: 0.2865 - val_accuracy: 0.8872\n",
      "Epoch 4/20\n",
      "30/30 [==============================] - 0s 14ms/step - loss: 0.1760 - accuracy: 0.9431 - val_loss: 0.2768 - val_accuracy: 0.8906\n",
      "Epoch 5/20\n",
      "30/30 [==============================] - 0s 13ms/step - loss: 0.1429 - accuracy: 0.9538 - val_loss: 0.2855 - val_accuracy: 0.8876\n",
      "Epoch 6/20\n",
      "30/30 [==============================] - 0s 13ms/step - loss: 0.1180 - accuracy: 0.9631 - val_loss: 0.3009 - val_accuracy: 0.8847\n",
      "Epoch 7/20\n",
      "30/30 [==============================] - 0s 13ms/step - loss: 0.0987 - accuracy: 0.9703 - val_loss: 0.3201 - val_accuracy: 0.8838\n",
      "Epoch 8/20\n",
      "30/30 [==============================] - 0s 14ms/step - loss: 0.0814 - accuracy: 0.9770 - val_loss: 0.3344 - val_accuracy: 0.8831\n",
      "Epoch 9/20\n",
      "30/30 [==============================] - 0s 13ms/step - loss: 0.0670 - accuracy: 0.9819 - val_loss: 0.3900 - val_accuracy: 0.8733\n",
      "Epoch 10/20\n",
      "30/30 [==============================] - 0s 13ms/step - loss: 0.0560 - accuracy: 0.9858 - val_loss: 0.3887 - val_accuracy: 0.8770\n",
      "Epoch 11/20\n",
      "30/30 [==============================] - 0s 13ms/step - loss: 0.0455 - accuracy: 0.9890 - val_loss: 0.4145 - val_accuracy: 0.8767\n",
      "Epoch 12/20\n",
      "30/30 [==============================] - 0s 14ms/step - loss: 0.0374 - accuracy: 0.9909 - val_loss: 0.4928 - val_accuracy: 0.8662\n",
      "Epoch 13/20\n",
      "30/30 [==============================] - 0s 12ms/step - loss: 0.0285 - accuracy: 0.9947 - val_loss: 0.4789 - val_accuracy: 0.8738\n",
      "Epoch 14/20\n",
      "30/30 [==============================] - 0s 13ms/step - loss: 0.0250 - accuracy: 0.9947 - val_loss: 0.5086 - val_accuracy: 0.8716\n",
      "Epoch 15/20\n",
      "30/30 [==============================] - 0s 13ms/step - loss: 0.0194 - accuracy: 0.9965 - val_loss: 0.5416 - val_accuracy: 0.8712\n",
      "Epoch 16/20\n",
      "30/30 [==============================] - 0s 13ms/step - loss: 0.0155 - accuracy: 0.9978 - val_loss: 0.5762 - val_accuracy: 0.8673\n",
      "Epoch 17/20\n",
      "30/30 [==============================] - 0s 13ms/step - loss: 0.0142 - accuracy: 0.9967 - val_loss: 0.6137 - val_accuracy: 0.8670\n",
      "Epoch 18/20\n",
      "30/30 [==============================] - 0s 13ms/step - loss: 0.0072 - accuracy: 0.9993 - val_loss: 0.6686 - val_accuracy: 0.8656\n",
      "Epoch 19/20\n",
      "30/30 [==============================] - 0s 14ms/step - loss: 0.0086 - accuracy: 0.9984 - val_loss: 0.6836 - val_accuracy: 0.8659\n",
      "Epoch 20/20\n",
      "30/30 [==============================] - 0s 13ms/step - loss: 0.0042 - accuracy: 0.9996 - val_loss: 0.9376 - val_accuracy: 0.8435\n"
     ]
    }
   ],
   "source": [
    "from tensorflow.keras.datasets import imdb\n",
    "(train_data, train_labels), _ = imdb.load_data(num_words=10000)\n",
    "\n",
    "def vectorize_sequences(sequences, dimension=10000):\n",
    "    results = np.zeros((len(sequences), dimension))\n",
    "    for i, sequence in enumerate(sequences):\n",
    "        results[i, sequence] = 1.\n",
    "    return results\n",
    "train_data = vectorize_sequences(train_data)\n",
    "\n",
    "model = keras.Sequential([\n",
    "    layers.Dense(16, activation=\"relu\"),\n",
    "    layers.Dense(16, activation=\"relu\"),\n",
    "    layers.Dense(1, activation=\"sigmoid\")\n",
    "])\n",
    "model.compile(optimizer=\"rmsprop\",\n",
    "              loss=\"binary_crossentropy\",\n",
    "              metrics=[\"accuracy\"])\n",
    "history_original = model.fit(train_data, train_labels,\n",
    "                             epochs=20, batch_size=512, validation_split=0.4)"
   ]
  },
  {
   "cell_type": "markdown",
   "metadata": {},
   "source": [
    "Now let’s try to replace it with this smaller model.\n",
    "##### Version of the model with lower capacity"
   ]
  },
  {
   "cell_type": "code",
   "execution_count": 17,
   "metadata": {},
   "outputs": [
    {
     "name": "stdout",
     "output_type": "stream",
     "text": [
      "Epoch 1/20\n",
      "30/30 [==============================] - 1s 27ms/step - loss: 0.6504 - accuracy: 0.6224 - val_loss: 0.6103 - val_accuracy: 0.7478\n",
      "Epoch 2/20\n",
      "30/30 [==============================] - 0s 14ms/step - loss: 0.5789 - accuracy: 0.7457 - val_loss: 0.5608 - val_accuracy: 0.7669\n",
      "Epoch 3/20\n",
      "30/30 [==============================] - 0s 14ms/step - loss: 0.5299 - accuracy: 0.8067 - val_loss: 0.5265 - val_accuracy: 0.8365\n",
      "Epoch 4/20\n",
      "30/30 [==============================] - 0s 15ms/step - loss: 0.4924 - accuracy: 0.8478 - val_loss: 0.4996 - val_accuracy: 0.8282\n",
      "Epoch 5/20\n",
      "30/30 [==============================] - 0s 14ms/step - loss: 0.4614 - accuracy: 0.8754 - val_loss: 0.4807 - val_accuracy: 0.8373\n",
      "Epoch 6/20\n",
      "30/30 [==============================] - 0s 13ms/step - loss: 0.4347 - accuracy: 0.8990 - val_loss: 0.4715 - val_accuracy: 0.8286\n",
      "Epoch 7/20\n",
      "30/30 [==============================] - 0s 13ms/step - loss: 0.4119 - accuracy: 0.9136 - val_loss: 0.4601 - val_accuracy: 0.8402\n",
      "Epoch 8/20\n",
      "30/30 [==============================] - 0s 13ms/step - loss: 0.3914 - accuracy: 0.9282 - val_loss: 0.4431 - val_accuracy: 0.8685\n",
      "Epoch 9/20\n",
      "30/30 [==============================] - 0s 13ms/step - loss: 0.3726 - accuracy: 0.9402 - val_loss: 0.4390 - val_accuracy: 0.8695\n",
      "Epoch 10/20\n",
      "30/30 [==============================] - 0s 12ms/step - loss: 0.3557 - accuracy: 0.9494 - val_loss: 0.4277 - val_accuracy: 0.8803\n",
      "Epoch 11/20\n",
      "30/30 [==============================] - 0s 12ms/step - loss: 0.3378 - accuracy: 0.9582 - val_loss: 0.4386 - val_accuracy: 0.8648\n",
      "Epoch 12/20\n",
      "30/30 [==============================] - 0s 12ms/step - loss: 0.3052 - accuracy: 0.9633 - val_loss: 0.3892 - val_accuracy: 0.8749\n",
      "Epoch 13/20\n",
      "30/30 [==============================] - 0s 13ms/step - loss: 0.2404 - accuracy: 0.9681 - val_loss: 0.3305 - val_accuracy: 0.8895\n",
      "Epoch 14/20\n",
      "30/30 [==============================] - 0s 12ms/step - loss: 0.1870 - accuracy: 0.9719 - val_loss: 0.3077 - val_accuracy: 0.8899\n",
      "Epoch 15/20\n",
      "30/30 [==============================] - 0s 12ms/step - loss: 0.1505 - accuracy: 0.9734 - val_loss: 0.3043 - val_accuracy: 0.8869\n",
      "Epoch 16/20\n",
      "30/30 [==============================] - 0s 13ms/step - loss: 0.1266 - accuracy: 0.9775 - val_loss: 0.3107 - val_accuracy: 0.8837\n",
      "Epoch 17/20\n",
      "30/30 [==============================] - 0s 14ms/step - loss: 0.1105 - accuracy: 0.9786 - val_loss: 0.3131 - val_accuracy: 0.8850\n",
      "Epoch 18/20\n",
      "30/30 [==============================] - 0s 12ms/step - loss: 0.0976 - accuracy: 0.9813 - val_loss: 0.3161 - val_accuracy: 0.8855\n",
      "Epoch 19/20\n",
      "30/30 [==============================] - 0s 13ms/step - loss: 0.0874 - accuracy: 0.9825 - val_loss: 0.3420 - val_accuracy: 0.8835\n",
      "Epoch 20/20\n",
      "30/30 [==============================] - 0s 12ms/step - loss: 0.0770 - accuracy: 0.9847 - val_loss: 0.3456 - val_accuracy: 0.8834\n"
     ]
    }
   ],
   "source": [
    "model = keras.Sequential([\n",
    "    layers.Dense(4, activation=\"relu\"),\n",
    "    layers.Dense(4, activation=\"relu\"),\n",
    "    layers.Dense(1, activation=\"sigmoid\")\n",
    "])\n",
    "model.compile(optimizer=\"rmsprop\",\n",
    "              loss=\"binary_crossentropy\",\n",
    "              metrics=[\"accuracy\"])\n",
    "history_smaller_model = model.fit(\n",
    "    train_data, train_labels,\n",
    "    epochs=20, batch_size=512, validation_split=0.4)"
   ]
  },
  {
   "cell_type": "markdown",
   "metadata": {},
   "source": [
    "The smaller model starts overfitting later than the reference model, and its performance degrades more slowly once it starts overfitting.\n",
    "\n",
    "Now, let’s add to our benchmark a model that has much more capacity—far more than the problem warrants. While it is standard to work with models that are significantly overparameterized for what they’re trying to learn, there can definitely be such a thing as too much memorization capacity. You’ll know your model is too large if it starts overfitting right away and if its validation loss curve looks choppy with highvariance (although choppy validation metrics could also be a symptom of using an unreliable validation process, such as a validation split that’s too small).\n",
    "\n",
    "##### Version of the model with higher capacity"
   ]
  },
  {
   "cell_type": "code",
   "execution_count": 19,
   "metadata": {},
   "outputs": [
    {
     "name": "stdout",
     "output_type": "stream",
     "text": [
      "Epoch 1/20\n",
      "30/30 [==============================] - 4s 105ms/step - loss: 0.5551 - accuracy: 0.7467 - val_loss: 0.3028 - val_accuracy: 0.8856\n",
      "Epoch 2/20\n",
      "30/30 [==============================] - 3s 85ms/step - loss: 0.2565 - accuracy: 0.8992 - val_loss: 0.4158 - val_accuracy: 0.8269\n",
      "Epoch 3/20\n",
      "30/30 [==============================] - 3s 98ms/step - loss: 0.1596 - accuracy: 0.9399 - val_loss: 0.2986 - val_accuracy: 0.8921\n",
      "Epoch 4/20\n",
      "30/30 [==============================] - 3s 97ms/step - loss: 0.0736 - accuracy: 0.9741 - val_loss: 0.5105 - val_accuracy: 0.8515\n",
      "Epoch 5/20\n",
      "30/30 [==============================] - 3s 94ms/step - loss: 0.1118 - accuracy: 0.9761 - val_loss: 0.3396 - val_accuracy: 0.8854\n",
      "Epoch 6/20\n",
      "30/30 [==============================] - 3s 92ms/step - loss: 0.0061 - accuracy: 0.9994 - val_loss: 0.4922 - val_accuracy: 0.8854\n",
      "Epoch 7/20\n",
      "30/30 [==============================] - 3s 93ms/step - loss: 0.0011 - accuracy: 0.9999 - val_loss: 0.6020 - val_accuracy: 0.8852\n",
      "Epoch 8/20\n",
      "30/30 [==============================] - 3s 89ms/step - loss: 0.1767 - accuracy: 0.9767 - val_loss: 0.5126 - val_accuracy: 0.8687\n",
      "Epoch 9/20\n",
      "30/30 [==============================] - 3s 92ms/step - loss: 0.0012 - accuracy: 1.0000 - val_loss: 0.5394 - val_accuracy: 0.8839\n",
      "Epoch 10/20\n",
      "30/30 [==============================] - 3s 93ms/step - loss: 2.0618e-04 - accuracy: 1.0000 - val_loss: 0.6212 - val_accuracy: 0.8835\n",
      "Epoch 11/20\n",
      "30/30 [==============================] - 3s 88ms/step - loss: 6.2563e-05 - accuracy: 1.0000 - val_loss: 0.7066 - val_accuracy: 0.8834\n",
      "Epoch 12/20\n",
      "30/30 [==============================] - 3s 85ms/step - loss: 1.7792e-05 - accuracy: 1.0000 - val_loss: 0.8021 - val_accuracy: 0.8845\n",
      "Epoch 13/20\n",
      "30/30 [==============================] - 3s 85ms/step - loss: 0.2234 - accuracy: 0.9771 - val_loss: 0.7606 - val_accuracy: 0.8654\n",
      "Epoch 14/20\n",
      "30/30 [==============================] - 3s 87ms/step - loss: 4.2578e-04 - accuracy: 1.0000 - val_loss: 0.6551 - val_accuracy: 0.8796\n",
      "Epoch 15/20\n",
      "30/30 [==============================] - 3s 85ms/step - loss: 5.3767e-05 - accuracy: 1.0000 - val_loss: 0.6682 - val_accuracy: 0.8835\n",
      "Epoch 16/20\n",
      "30/30 [==============================] - 3s 85ms/step - loss: 2.1860e-05 - accuracy: 1.0000 - val_loss: 0.7148 - val_accuracy: 0.8834\n",
      "Epoch 17/20\n",
      "30/30 [==============================] - 3s 85ms/step - loss: 9.6153e-06 - accuracy: 1.0000 - val_loss: 0.7833 - val_accuracy: 0.8824\n",
      "Epoch 18/20\n",
      "30/30 [==============================] - 3s 90ms/step - loss: 3.5955e-06 - accuracy: 1.0000 - val_loss: 0.8710 - val_accuracy: 0.8825\n",
      "Epoch 19/20\n",
      "30/30 [==============================] - 3s 91ms/step - loss: 1.2312e-06 - accuracy: 1.0000 - val_loss: 0.9652 - val_accuracy: 0.8821\n",
      "Epoch 20/20\n",
      "30/30 [==============================] - 3s 88ms/step - loss: 4.3009e-07 - accuracy: 1.0000 - val_loss: 1.0438 - val_accuracy: 0.8854\n"
     ]
    }
   ],
   "source": [
    "model = keras.Sequential([\n",
    "    layers.Dense(512, activation=\"relu\"),\n",
    "    layers.Dense(512, activation=\"relu\"),\n",
    "    layers.Dense(1, activation=\"sigmoid\")\n",
    "])\n",
    "model.compile(optimizer=\"rmsprop\",\n",
    "              loss=\"binary_crossentropy\",\n",
    "              metrics=[\"accuracy\"])\n",
    "history_larger_model = model.fit(\n",
    "    train_data, train_labels,\n",
    "    epochs=20, batch_size=512, validation_split=0.4)"
   ]
  },
  {
   "cell_type": "markdown",
   "metadata": {},
   "source": [
    "The bigger model starts overfitting almost immediately, after just one epoch, and it overfits much more severely. Its validation loss is also noisier. It gets training loss near zero very quickly. The more capacity the model has, the more quickly it can model the training data (resulting in a low training loss), but the more susceptible it is to overfitting (resulting in a large difference between the training and validation loss)."
   ]
  },
  {
   "cell_type": "markdown",
   "metadata": {},
   "source": [
    "##### ADDING WEIGHT REGULARIZATION\n",
    "You may be familiar with the principle of Occam’s razor: given two explanations for something, the explanation most likely to be correct is the simplest one—the one that makes fewer assumptions. This idea also applies to the models learned by neural networks: given some training data and a network architecture, multiple sets of weight values (multiple models) could explain the data. Simpler models are less likely to overfit than complex ones. <br>\n",
    "A simple model in this context is a model where the distribution of parameter values has less entropy (or a model with fewer parameters, as you saw in the previous section). <br>\n",
    "Thus, a common way to mitigate overfitting is to put constraints on the complexity of a model by forcing its weights to take only small values, which makes the distribution of weight values more regular. This is called **weight regularization**, and it’s done by adding to the loss function of the model a cost associated with having large weights. This cost comes in two flavors:\n",
    "- **L1 regularization**—The cost added is proportional to the absolute value of the weight coefficients (the L1 norm of the weights).\n",
    "- **L2 regularization**—The cost added is proportional to the square of the value of the weight coefficients (the L2 norm of the weights). L2 regularization is also called **weight decay** in the context of neural networks. Don’t let the different name confuse you: weight decay is mathematically the same as L2 regularization.\n",
    "\n",
    "In Keras, weight regularization is added by passing **weight regularizer** instances to layers as keyword arguments. Let’s add L2 weight regularization to our initial movie-review classification model.\n",
    "\n",
    "##### Adding L2 weight regularization to the model"
   ]
  },
  {
   "cell_type": "code",
   "execution_count": 20,
   "metadata": {},
   "outputs": [
    {
     "name": "stdout",
     "output_type": "stream",
     "text": [
      "Epoch 1/20\n",
      "30/30 [==============================] - 2s 29ms/step - loss: 0.5795 - accuracy: 0.7941 - val_loss: 0.4836 - val_accuracy: 0.8350\n",
      "Epoch 2/20\n",
      "30/30 [==============================] - 0s 15ms/step - loss: 0.3936 - accuracy: 0.8937 - val_loss: 0.3894 - val_accuracy: 0.8840\n",
      "Epoch 3/20\n",
      "30/30 [==============================] - 0s 14ms/step - loss: 0.3331 - accuracy: 0.9115 - val_loss: 0.3656 - val_accuracy: 0.8872\n",
      "Epoch 4/20\n",
      "30/30 [==============================] - 0s 14ms/step - loss: 0.3016 - accuracy: 0.9243 - val_loss: 0.3602 - val_accuracy: 0.8867\n",
      "Epoch 5/20\n",
      "30/30 [==============================] - 0s 14ms/step - loss: 0.2820 - accuracy: 0.9320 - val_loss: 0.3619 - val_accuracy: 0.8874\n",
      "Epoch 6/20\n",
      "30/30 [==============================] - 0s 15ms/step - loss: 0.2716 - accuracy: 0.9350 - val_loss: 0.3631 - val_accuracy: 0.8842\n",
      "Epoch 7/20\n",
      "30/30 [==============================] - 0s 14ms/step - loss: 0.2607 - accuracy: 0.9381 - val_loss: 0.3632 - val_accuracy: 0.8845\n",
      "Epoch 8/20\n",
      "30/30 [==============================] - 0s 14ms/step - loss: 0.2532 - accuracy: 0.9397 - val_loss: 0.3828 - val_accuracy: 0.8788\n",
      "Epoch 9/20\n",
      "30/30 [==============================] - 0s 14ms/step - loss: 0.2499 - accuracy: 0.9402 - val_loss: 0.3729 - val_accuracy: 0.8828\n",
      "Epoch 10/20\n",
      "30/30 [==============================] - 0s 14ms/step - loss: 0.2395 - accuracy: 0.9471 - val_loss: 0.3928 - val_accuracy: 0.8775\n",
      "Epoch 11/20\n",
      "30/30 [==============================] - 0s 14ms/step - loss: 0.2342 - accuracy: 0.9479 - val_loss: 0.4076 - val_accuracy: 0.8723\n",
      "Epoch 12/20\n",
      "30/30 [==============================] - 0s 14ms/step - loss: 0.2308 - accuracy: 0.9488 - val_loss: 0.3981 - val_accuracy: 0.8740\n",
      "Epoch 13/20\n",
      "30/30 [==============================] - 0s 14ms/step - loss: 0.2311 - accuracy: 0.9483 - val_loss: 0.3868 - val_accuracy: 0.8787\n",
      "Epoch 14/20\n",
      "30/30 [==============================] - 0s 14ms/step - loss: 0.2218 - accuracy: 0.9523 - val_loss: 0.4044 - val_accuracy: 0.8769\n",
      "Epoch 15/20\n",
      "30/30 [==============================] - 0s 14ms/step - loss: 0.2301 - accuracy: 0.9495 - val_loss: 0.4037 - val_accuracy: 0.8748\n",
      "Epoch 16/20\n",
      "30/30 [==============================] - 0s 15ms/step - loss: 0.2173 - accuracy: 0.9543 - val_loss: 0.4700 - val_accuracy: 0.8539\n",
      "Epoch 17/20\n",
      "30/30 [==============================] - 0s 14ms/step - loss: 0.2140 - accuracy: 0.9547 - val_loss: 0.4008 - val_accuracy: 0.8760\n",
      "Epoch 18/20\n",
      "30/30 [==============================] - 0s 14ms/step - loss: 0.2178 - accuracy: 0.9519 - val_loss: 0.4043 - val_accuracy: 0.8773\n",
      "Epoch 19/20\n",
      "30/30 [==============================] - 0s 14ms/step - loss: 0.2087 - accuracy: 0.9571 - val_loss: 0.4240 - val_accuracy: 0.8698\n",
      "Epoch 20/20\n",
      "30/30 [==============================] - 0s 13ms/step - loss: 0.2139 - accuracy: 0.9539 - val_loss: 0.4119 - val_accuracy: 0.8760\n"
     ]
    }
   ],
   "source": [
    "from tensorflow.keras import regularizers\n",
    "model = keras.Sequential([\n",
    "    layers.Dense(16,\n",
    "                 kernel_regularizer=regularizers.l2(0.002),\n",
    "                 activation=\"relu\"),\n",
    "    layers.Dense(16,\n",
    "                 kernel_regularizer=regularizers.l2(0.002),\n",
    "                 activation=\"relu\"),\n",
    "    layers.Dense(1, activation=\"sigmoid\")\n",
    "])\n",
    "model.compile(optimizer=\"rmsprop\",\n",
    "              loss=\"binary_crossentropy\",\n",
    "              metrics=[\"accuracy\"])\n",
    "history_l2_reg = model.fit(\n",
    "    train_data, train_labels,\n",
    "    epochs=20, batch_size=512, validation_split=0.4)"
   ]
  },
  {
   "cell_type": "markdown",
   "metadata": {},
   "source": [
    "In the preceding listing, l2(0.002) means every coefficient in the weight matrix of\n",
    "the layer will add 0.002 * weight_coefficient_value ** 2 to the total loss of the\n",
    "model. Note that because this penalty is only added at training time, the loss for this\n",
    "model will be much higher at training than at test time.\n",
    "The plot below shows the impact of the L2 regularization penalty. As you can see, the model with L2 regularization has become much more resistant to overfitting than the reference model, even though both models have the same number of parameters."
   ]
  },
  {
   "cell_type": "code",
   "execution_count": 21,
   "metadata": {},
   "outputs": [
    {
     "data": {
      "image/png": "[encoded data removed]",
      "text/plain": [
       "<Figure size 432x288 with 1 Axes>"
      ]
     },
     "metadata": {
      "needs_background": "light"
     },
     "output_type": "display_data"
    }
   ],
   "source": [
    "# Plot the validation loss of original model and l2 regularized model\n",
    "import matplotlib.pyplot as plt\n",
    "val_loss = history_original.history[\"val_loss\"]\n",
    "epochs = range(1, 21)\n",
    "plt.plot(epochs, val_loss, \"b--\", label=\"Original model\")\n",
    "val_loss_l2 = history_l2_reg.history[\"val_loss\"]\n",
    "plt.plot(epochs, val_loss_l2, \"r--\", label=\"L2 regularized model\")\n",
    "plt.title(\"Validation loss\")\n",
    "plt.xlabel(\"Epochs\")\n",
    "plt.ylabel(\"Loss\")\n",
    "plt.legend()\n",
    "plt.show()"
   ]
  },
  {
   "cell_type": "markdown",
   "metadata": {},
   "source": [
    "As an alternative to L2 regularization, you can use one of the following Keras weight regularizers.\n",
    "##### Different weight regularizers available in Keras"
   ]
  },
  {
   "cell_type": "code",
   "execution_count": 22,
   "metadata": {},
   "outputs": [
    {
     "data": {
      "text/plain": [
       "<keras.regularizers.L1L2 at 0x1cb27e62dc0>"
      ]
     },
     "execution_count": 22,
     "metadata": {},
     "output_type": "execute_result"
    }
   ],
   "source": [
    "from tensorflow.keras import regularizers\n",
    "regularizers.l1(0.001) # L1 regularization\n",
    "regularizers.l1_l2(l1=0.001, l2=0.001) # Simultaneous L1 and L2 regularization"
   ]
  },
  {
   "cell_type": "markdown",
   "metadata": {},
   "source": [
    "Note that **weight regularization is more typically used for smaller deep learning models**. Large deep learning models tend to be so overparameterized that imposing constraints on weight values hasn’t much impact on model capacity and generalization. <br>\n",
    "In these cases, a different regularization technique is preferred: **dropout**."
   ]
  },
  {
   "cell_type": "markdown",
   "metadata": {},
   "source": [
    "##### ADDING DROPOUT\n",
    "**Dropout** is one of the most effective and most commonly used regularization techniques for neural networks; it was developed by Geoff Hinton and his students at the University of Toronto. Dropout, applied to a layer, consists of randomly dropping out (setting to zero) a number of output features of the layer during training. Let’s say a given layer would normally return a vector [0.2, 0.5, 1.3, 0.8, 1.1] for a given input sample during training. After applying dropout, this vector will have a few zero entries distributed at random: for example, [0, 0.5, 1.3, 0, 1.1]. The dropout rate is the fraction of the features that are zeroed out; it’s usually set between 0.2 and 0.5. <br>\n",
    "At test time, no units are dropped out; instead, **the layer’s output values are scaled down by a factor equal to the dropout rate**, to balance for the fact that more units are active than at training time.\n",
    "\n",
    "Consider a NumPy matrix containing the output of a layer, layer_output, of shape (batch_size, features). At training time, we zero out at random a fraction of the values in the matrix:\n",
    "\n",
    "```python\n",
    "layer_output *= np.random.randint(0, high=2, size=layer_output.shape) \n",
    "# At training time, drops out 50% of the units in the output\n",
    "```\n",
    "\n",
    "At test time, we scale down the output by the dropout rate. Here, we scale by 0.5 (because we previously dropped half the units):\n",
    "\n",
    "```python\n",
    "layer_output *= 0.5 # At test time\n",
    "```\n",
    "\n",
    "Note that this process can be implemented by doing both operations at training time and leaving the output unchanged at test time, which is often the way it’s implemented in practice (see figure 5.20):\n",
    "\n",
    "```python\n",
    "layer_output *= np.random.randint(0, high=2, size=layer_output.shape) # At training time\n",
    "layer_output /= 0.5 # Note that we’re scaling up rather than scaling down in this case.\n",
    "```\n",
    "\n",
    "![](./images/5.20.png)\n",
    "\n",
    "This technique may seem strange and arbitrary. Why would this help reduce overfitting? Hinton says he was inspired by, among other things, a fraud-prevention mechanism used by banks. In his own words, “I went to my bank. The tellers kept changing and I asked one of them why. He said he didn’t know but they got moved around a lot. <br>\n",
    "I figured it must be because it would require cooperation between employees to successfully defraud the bank. This made me realize that randomly removing a different subset of neurons on each example would prevent conspiracies and thus reduce overfitting.” The core idea is that introducing noise in the output values of a layer can break up happenstance patterns that aren’t significant (what Hinton refers to as conspiracies), which the model will start memorizing if no noise is present.\n",
    "\n",
    "In Keras, you can introduce dropout in a model via the **Dropout layer**, which is applied to the output of the layer right before it. Let’s add two Dropout layers in the IMDB model to see how well they do at reducing overfitting.\n",
    "\n",
    "##### Adding dropout to the IMDB model"
   ]
  },
  {
   "cell_type": "code",
   "execution_count": 23,
   "metadata": {},
   "outputs": [
    {
     "name": "stdout",
     "output_type": "stream",
     "text": [
      "Epoch 1/20\n",
      "30/30 [==============================] - 2s 28ms/step - loss: 0.6350 - accuracy: 0.6377 - val_loss: 0.5485 - val_accuracy: 0.8296\n",
      "Epoch 2/20\n",
      "30/30 [==============================] - 0s 15ms/step - loss: 0.5208 - accuracy: 0.7698 - val_loss: 0.4306 - val_accuracy: 0.8655\n",
      "Epoch 3/20\n",
      "30/30 [==============================] - 0s 14ms/step - loss: 0.4383 - accuracy: 0.8303 - val_loss: 0.3747 - val_accuracy: 0.8700\n",
      "Epoch 4/20\n",
      "30/30 [==============================] - 0s 14ms/step - loss: 0.3789 - accuracy: 0.8629 - val_loss: 0.3236 - val_accuracy: 0.8809\n",
      "Epoch 5/20\n",
      "30/30 [==============================] - 0s 14ms/step - loss: 0.3282 - accuracy: 0.8933 - val_loss: 0.2861 - val_accuracy: 0.8927\n",
      "Epoch 6/20\n",
      "30/30 [==============================] - 0s 14ms/step - loss: 0.2821 - accuracy: 0.9116 - val_loss: 0.2757 - val_accuracy: 0.8923\n",
      "Epoch 7/20\n",
      "30/30 [==============================] - 0s 14ms/step - loss: 0.2534 - accuracy: 0.9238 - val_loss: 0.2914 - val_accuracy: 0.8881\n",
      "Epoch 8/20\n",
      "30/30 [==============================] - 0s 14ms/step - loss: 0.2269 - accuracy: 0.9315 - val_loss: 0.2827 - val_accuracy: 0.8916\n",
      "Epoch 9/20\n",
      "30/30 [==============================] - 0s 14ms/step - loss: 0.2002 - accuracy: 0.9388 - val_loss: 0.3060 - val_accuracy: 0.8868\n",
      "Epoch 10/20\n",
      "30/30 [==============================] - 0s 14ms/step - loss: 0.1780 - accuracy: 0.9466 - val_loss: 0.3067 - val_accuracy: 0.8914\n",
      "Epoch 11/20\n",
      "30/30 [==============================] - 0s 15ms/step - loss: 0.1633 - accuracy: 0.9501 - val_loss: 0.3117 - val_accuracy: 0.8915\n",
      "Epoch 12/20\n",
      "30/30 [==============================] - 0s 14ms/step - loss: 0.1475 - accuracy: 0.9558 - val_loss: 0.3385 - val_accuracy: 0.8884\n",
      "Epoch 13/20\n",
      "30/30 [==============================] - 0s 14ms/step - loss: 0.1382 - accuracy: 0.9593 - val_loss: 0.3559 - val_accuracy: 0.8886\n",
      "Epoch 14/20\n",
      "30/30 [==============================] - 0s 14ms/step - loss: 0.1242 - accuracy: 0.9646 - val_loss: 0.3896 - val_accuracy: 0.8885\n",
      "Epoch 15/20\n",
      "30/30 [==============================] - 0s 14ms/step - loss: 0.1185 - accuracy: 0.9658 - val_loss: 0.4041 - val_accuracy: 0.8867\n",
      "Epoch 16/20\n",
      "30/30 [==============================] - 0s 15ms/step - loss: 0.1084 - accuracy: 0.9695 - val_loss: 0.4187 - val_accuracy: 0.8859\n",
      "Epoch 17/20\n",
      "30/30 [==============================] - 0s 15ms/step - loss: 0.1014 - accuracy: 0.9704 - val_loss: 0.4621 - val_accuracy: 0.8873\n",
      "Epoch 18/20\n",
      "30/30 [==============================] - 0s 15ms/step - loss: 0.0948 - accuracy: 0.9737 - val_loss: 0.5147 - val_accuracy: 0.8834\n",
      "Epoch 19/20\n",
      "30/30 [==============================] - 0s 14ms/step - loss: 0.0911 - accuracy: 0.9721 - val_loss: 0.5155 - val_accuracy: 0.8861\n",
      "Epoch 20/20\n",
      "30/30 [==============================] - 0s 13ms/step - loss: 0.0857 - accuracy: 0.9772 - val_loss: 0.5754 - val_accuracy: 0.8807\n"
     ]
    }
   ],
   "source": [
    "model = keras.Sequential([\n",
    "    layers.Dense(16, activation=\"relu\"),\n",
    "    layers.Dropout(0.5),\n",
    "    layers.Dense(16, activation=\"relu\"),\n",
    "    layers.Dropout(0.5),\n",
    "    layers.Dense(1, activation=\"sigmoid\")\n",
    "])\n",
    "model.compile(optimizer=\"rmsprop\",\n",
    "              loss=\"binary_crossentropy\",\n",
    "              metrics=[\"accuracy\"])\n",
    "history_dropout = model.fit(\n",
    "    train_data, train_labels,\n",
    "    epochs=20, batch_size=512, validation_split=0.4)"
   ]
  },
  {
   "cell_type": "markdown",
   "metadata": {},
   "source": [
    "The plot below shows the results. This is a clear improvement over the reference model—it also seems to be working much better than L2 regularization, since the lowest validation loss reached has improved."
   ]
  },
  {
   "cell_type": "code",
   "execution_count": 24,
   "metadata": {},
   "outputs": [
    {
     "data": {
      "image/png": "[encoded data removed]",
      "text/plain": [
       "<Figure size 432x288 with 1 Axes>"
      ]
     },
     "metadata": {
      "needs_background": "light"
     },
     "output_type": "display_data"
    }
   ],
   "source": [
    "# Plot the validation loss of original model and l2 regularized model\n",
    "import matplotlib.pyplot as plt\n",
    "val_loss = history_original.history[\"val_loss\"]\n",
    "epochs = range(1, 21)\n",
    "plt.plot(epochs, val_loss, \"b--\", label=\"Validation loss of original model\")\n",
    "val_loss_l2 = history_dropout.history[\"val_loss\"]\n",
    "plt.plot(epochs, val_loss_l2, \"r--\", label=\"Validation loss of dropout regularized model\")\n",
    "plt.title(\"Validation loss\")\n",
    "plt.xlabel(\"Epochs\")\n",
    "plt.ylabel(\"Loss\")\n",
    "plt.legend()\n",
    "plt.show()"
   ]
  },
  {
   "cell_type": "markdown",
   "metadata": {},
   "source": [
    "To recap, these are the most common ways to maximize generalization and prevent overfitting in neural networks:\n",
    "- Get more training data, or better training data.\n",
    "- Develop better features.\n",
    "- Reduce the capacity of the model.\n",
    "- Add weight regularization (for smaller models).\n",
    "- Add dropout."
   ]
  },
  {
   "cell_type": "markdown",
   "metadata": {},
   "source": [
    "#### Summary\n",
    "- The purpose of a machine learning model is to generalize: to perform accurately on never-before-seen inputs. It’s harder than it seems.\n",
    "- A deep neural network achieves generalization by learning a parametric model that can successfully interpolate between training samples—such a model can be said to have learned the “latent manifold” of the training data. This is why deep learning models can only make sense of inputs that are very close to what they’ve seen during training.\n",
    "- The fundamental problem in machine learning is the tension between optimization and generalization: to attain generalization, you must first achieve a good fit to the training data, but improving your model’s fit to the training data will inevitably start hurting generalization after a while. Every single deep learning best practice deals with managing this tension.\n",
    "- The ability of deep learning models to generalize comes from the fact that they manage to learn to approximate the latent manifold of their data, and can thus make sense of new inputs via interpolation.\n",
    "- It’s essential to be able to accurately evaluate the generalization power of your model while you’re developing it. You have at your disposal an array of evaluation methods, from simple holdout validation to K-fold cross-validation and iterated K-fold cross-validation with shuffling. Remember to always keep a completely separate test set for final model evaluation, since information leaks from your validation data to your model may have occurred.\n",
    "- When you start working on a model, your goal is first to achieve a model that has some generalization power and that can overfit. Best practices for doing this include tuning your learning rate and batch size, leveraging better architecture priors, increasing model capacity, or simply training longer.\n",
    "- As your model starts overfitting, your goal switches to improving generalization through model regularization. You can reduce your model’s capacity, add dropout or weight regularization, and use early stopping. And naturally, a larger or better dataset is always the number one way to help a model generalize."
   ]
  }
 ],
 "metadata": {
  "interpreter": {
   "hash": "483abfc7fdcd927bfa336910f494643cce94b3dfa36bcded073270b8df64edb3"
  },
  "kernelspec": {
   "display_name": "Python 3.9.6 64-bit",
   "language": "python",
   "name": "python3"
  },
  "language_info": {
   "codemirror_mode": {
    "name": "ipython",
    "version": 3
   },
   "file_extension": ".py",
   "mimetype": "text/x-python",
   "name": "python",
   "nbconvert_exporter": "python",
   "pygments_lexer": "ipython3",
   "version": "3.9.6"
  },
  "orig_nbformat": 4
 },
 "nbformat": 4,
 "nbformat_minor": 2
}
