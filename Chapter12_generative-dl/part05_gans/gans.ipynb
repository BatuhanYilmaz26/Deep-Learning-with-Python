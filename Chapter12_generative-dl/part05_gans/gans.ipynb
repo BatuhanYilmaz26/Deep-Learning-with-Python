{
  "cells": [
    {
      "cell_type": "markdown",
      "metadata": {
        "id": "34Uv3tWt6wX4"
      },
      "source": [
        "#### Introduction to generative adversarial networks\n",
        "Generative adversarial networks (GANs), introduced in 2014 by Goodfellow et al.,7 are an alternative to VAEs for learning latent spaces of images. They enable the generation of fairly realistic synthetic images by forcing the generated images to be statistically almost indistinguishable from real ones. <br>\n",
        "An intuitive way to understand GANs is to imagine a forger trying to create a fake Picasso painting. At first, the forger is pretty bad at the task. He mixes some of his fakes with authentic Picassos and shows them all to an art dealer. The art dealer makes an authenticity assessment for each painting and gives the forger feedback about what makes a Picasso look like a Picasso. The forger goes back to his studio to prepare some new fakes. As time goes on, the forger becomes increasingly competent at imitating the style of Picasso, and the art dealer becomes increasingly expert at spotting fakes. <br>\n",
        "In the end, they have on their hands some excellent fake Picassos. <br>\n",
        "That’s what a GAN is: a forger network and an expert network, each being trained to best the other. As such, a GAN is made of two parts:\n",
        "- **Generator network**—Takes as input a random vector (a random point in the latent space), and decodes it into a synthetic image\n",
        "- **Discriminator network (or adversary)**—Takes as input an image (real or synthetic), and predicts whether the image came from the training set or was created by the generator network\n",
        "\n",
        "The generator network is trained to be able to fool the discriminator network, and thus it evolves toward generating increasingly realistic images as training goes on: artificial images that look indistinguishable from real ones, to the extent that it’s impossible for the discriminator network to tell the two apart (see figure 12.19). Meanwhile, the discriminator is constantly adapting to the gradually improving capabilities of the generator, setting a high bar of realism for the generated images. Once training is over, the generator is capable of turning any point in its input space into a believable image. Unlike VAEs, this latent space has fewer explicit guarantees of meaningful structure; in particular, it isn’t continuous.\n",
        "\n",
        "![](./images/12.19.png)\n",
        "\n",
        "Remarkably, a GAN is a system where the optimization minimum isn’t fixed, unlike in any other training setup you’ve encountered in this book. Normally, gradient descent consists of rolling down hills in a static loss landscape. But with a GAN, every step taken down the hill changes the entire landscape a little. It’s a dynamic system where the optimization process is seeking not a minimum, but an equilibrium between two forces. For this reason, GANs are notoriously difficult to train—getting a GAN to work requires lots of careful tuning of the model architecture and training parameters."
      ]
    },
    {
      "cell_type": "markdown",
      "metadata": {
        "id": "AoAXH4p86wX-"
      },
      "source": [
        "##### A schematic GAN implementation\n",
        "In this section, we’ll explain how to implement a GAN in Keras in its barest form. GANs are advanced, so diving deeply into the technical details of architectures like that of the StyleGAN2 that generated the images in figure 12.20 would be out of scope for this book. The specific implementation we’ll use in this demonstration is a deep convolutional GAN (DCGAN): a very basic GAN where the generator and discriminator are deep convnets.\n",
        "\n",
        "![](./images/12.20.png)\n",
        "\n",
        "We’ll train our GAN on images from the Large-scale CelebFaces Attributes dataset (known as CelebA), a dataset of 200,000 faces of celebrities (http://mmlab.ie.cuhk.edu.hk/projects/CelebA.html) To speed up training, we’ll resize the images to 64 × 64, so we’ll be learning to generate 64 × 64 images of human faces. <br>\n",
        "Schematically, the GAN looks like this:\n",
        "- A generator network maps vectors of shape (latent_dim,) to images of shape (64, 64, 3).\n",
        "- A discriminator network maps images of shape (64, 64, 3) to a binary score estimating the probability that the image is real.\n",
        "- A gan network chains the generator and the discriminator together: gan(x) = discriminator(generator(x)). Thus, this gan network maps latent space vectors to the discriminator’s assessment of the realism of these latent vectors as decoded by the generator.\n",
        "- We train the discriminator using examples of real and fake images along with “real”/“fake” labels, just as we train any regular image-classification model.\n",
        "- To train the generator, we use the gradients of the generator’s weights with regard to the loss of the gan model. This means that at every step, we move the weights of the generator in a direction that makes the discriminator more likely to classify as “real” the images decoded by the generator. In other words, we train the generator to fool the discriminator."
      ]
    },
    {
      "cell_type": "markdown",
      "metadata": {
        "id": "DJfoX7_46wX_"
      },
      "source": [
        "##### A bag of tricks\n",
        "The process of training GANs and tuning GAN implementations is notoriously difficult. There are a number of known tricks you should keep in mind. Like most things in deep learning, it’s more alchemy than science: these tricks are heuristics, not theorybacked guidelines. They’re supported by a level of intuitive understanding of the phenomenon at hand, and they’re known to work well empirically, although not necessarily in every context. <br>\n",
        "Here are a few of the tricks used in the implementation of the GAN generator and discriminator in this section. It isn’t an exhaustive list of GAN-related tips; you’ll find many more across the GAN literature:\n",
        "- We use strides instead of pooling for downsampling feature maps in the discriminator, just like we did in our VAE encoder.\n",
        "- We sample points from the latent space using a normal distribution (Gaussian distribution), not a uniform distribution.\n",
        "- Stochasticity is good for inducing robustness. Because GAN training results in a dynamic equilibrium, GANs are likely to get stuck in all sorts of ways. Introducing randomness during training helps prevent this. We introduce randomness by adding random noise to the labels for the discriminator.\n",
        "- Sparse gradients can hinder GAN training. In deep learning, sparsity is often a desirable property, but not in GANs. Two things can induce gradient sparsity: max pooling operations and relu activations. Instead of max pooling, we recommend using strided convolutions for downsampling, and we recommend using a LeakyReLU layer instead of a relu activation. It’s similar to relu, but it relaxes sparsity constraints by allowing small negative activation values.\n",
        "- In generated images, it’s common to see checkerboard artifacts caused by unequal coverage of the pixel space in the generator (see figure 12.21). To fix this, we use a kernel size that’s divisible by the stride size whenever we use a strided Conv2DTranspose or Conv2D in both the generator and the discriminator.\n",
        "\n",
        "![](./images/12.21.png)"
      ]
    },
    {
      "cell_type": "markdown",
      "metadata": {
        "id": "yvTakArP6wYA"
      },
      "source": [
        "##### Getting our hands on the CelebA dataset\n",
        "You can download the dataset manually from the website: http://mmlab.ie.cuhk.edu.hk/projects/CelebA.html. If you’re using Colab, you can run the following to download the data from Google Drive and uncompress it.\n",
        "\n",
        "##### Getting the CelebA data"
      ]
    },
    {
      "cell_type": "code",
      "execution_count": null,
      "metadata": {},
      "outputs": [],
      "source": [
        "!mkdir celeba_gan # Create a working directory.\n",
        "!gdown --id 1O7m1010EJjLE5QxLZiM9Fpjs7Oj6e684 -O celeba_gan/data.zip # Download the compressed data using gdown (available by default in Colab; install it otherwise).\n",
        "!unzip -qq celeba_gan/data.zip -d celeba_gan # Uncompress the data."
      ]
    },
    {
      "cell_type": "markdown",
      "metadata": {
        "id": "6XywjvVA735c"
      },
      "source": [
        "Once you’ve got the uncompressed images in a directory, you can use **image_dataset_from_directory** to turn it into a dataset. Since we just need the images—there are no labels—we’ll specify label_mode=None.\n",
        "\n",
        "##### Creating a dataset from a directory of images"
      ]
    },
    {
      "cell_type": "code",
      "execution_count": 11,
      "metadata": {
        "colab": {
          "base_uri": "https://localhost:8080/"
        },
        "id": "8YfLSVoC8E1t",
        "outputId": "022b7849-348c-4fc3-fd8d-381ed8a0c282"
      },
      "outputs": [
        {
          "name": "stdout",
          "output_type": "stream",
          "text": [
            "Found 202599 files belonging to 1 classes.\n"
          ]
        }
      ],
      "source": [
        "from tensorflow import keras\n",
        "dataset = keras.utils.image_dataset_from_directory(\n",
        "    \"celeba_gan\",\n",
        "    label_mode=None, # Only the images will be returned—no labels.\n",
        "    image_size=(64, 64),\n",
        "    batch_size=32,\n",
        "    smart_resize=True) # We will resize the images to 64 × 64 by using a smart combination of cropping and resizing to preserve aspect ratio. \n",
        "    # We don’t want face proportions to get distorted!"
      ]
    },
    {
      "cell_type": "markdown",
      "metadata": {
        "id": "N-AJ9p0m96Th"
      },
      "source": [
        "Finally, let’s rescale the images to the [0-1] range.\n",
        "\n",
        "##### Rescaling the images"
      ]
    },
    {
      "cell_type": "code",
      "execution_count": 12,
      "metadata": {
        "id": "AvOZqe8H99eb"
      },
      "outputs": [],
      "source": [
        "dataset = dataset.map(lambda x: x / 255.)"
      ]
    },
    {
      "cell_type": "markdown",
      "metadata": {
        "id": "vVeq-L91-AaK"
      },
      "source": [
        "You can use the following code to display a sample image.\n",
        "\n",
        "##### Displaying the first image"
      ]
    },
    {
      "cell_type": "code",
      "execution_count": 13,
      "metadata": {
        "colab": {
          "base_uri": "https://localhost:8080/",
          "height": 248
        },
        "id": "amELyaC4-EGR",
        "outputId": "c427da47-432d-41d5-ba7f-2132635e6d04"
      },
      "outputs": [
        {
          "data": {
            "image/png": "[encoded data removed]",
            "text/plain": [
              "<Figure size 432x288 with 1 Axes>"
            ]
          },
          "metadata": {
            "needs_background": "light"
          },
          "output_type": "display_data"
        }
      ],
      "source": [
        "import matplotlib.pyplot as plt\n",
        "for x in dataset:\n",
        "    plt.axis(\"off\")\n",
        "    plt.imshow((x.numpy() * 255).astype(\"int32\")[0])\n",
        "    break"
      ]
    },
    {
      "cell_type": "markdown",
      "metadata": {
        "id": "fdAS2gBC__xr"
      },
      "source": [
        "##### The discriminator\n",
        "First, we’ll develop a **discriminator** model that takes as input a candidate image(real or synthetic) and classifies it into one of two classes: “generated image” or “real image that comes from the training set.” One of the many issues that commonly arise with GANs is that the generator gets stuck with generated images that look like noise. A possible solution is to use **dropout** in the discriminator, so that’s what we will do here.\n",
        "\n",
        "##### The GAN discriminator network"
      ]
    },
    {
      "cell_type": "code",
      "execution_count": 14,
      "metadata": {
        "id": "zeVKBP_JAjOc"
      },
      "outputs": [],
      "source": [
        "from tensorflow.keras import layers\n",
        "\n",
        "discriminator = keras.Sequential(\n",
        "    [\n",
        "        keras.Input(shape=(64, 64, 3)),\n",
        "        layers.Conv2D(64, kernel_size=4, strides=2, padding=\"same\"),\n",
        "        layers.LeakyReLU(alpha=0.2),\n",
        "        layers.Conv2D(128, kernel_size=4, strides=2, padding=\"same\"),\n",
        "        layers.LeakyReLU(alpha=0.2),\n",
        "        layers.Conv2D(128, kernel_size=4, strides=2, padding=\"same\"),\n",
        "        layers.LeakyReLU(alpha=0.2),\n",
        "        layers.Flatten(),\n",
        "        layers.Dropout(0.2), # One dropout layer: an important trick!\n",
        "        layers.Dense(1, activation=\"sigmoid\"),\n",
        "    ],\n",
        "    name=\"discriminator\",\n",
        ")"
      ]
    },
    {
      "cell_type": "markdown",
      "metadata": {
        "id": "uD_SnbT401Qv"
      },
      "source": [
        "Here’s the discriminator model summary:"
      ]
    },
    {
      "cell_type": "code",
      "execution_count": 15,
      "metadata": {
        "colab": {
          "base_uri": "https://localhost:8080/"
        },
        "id": "udhLVal302_O",
        "outputId": "767a8a96-4b40-40f3-8bc0-1ffcfd1ab600"
      },
      "outputs": [
        {
          "name": "stdout",
          "output_type": "stream",
          "text": [
            "Model: \"discriminator\"\n",
            "_________________________________________________________________\n",
            " Layer (type)                Output Shape              Param #   \n",
            "=================================================================\n",
            " conv2d_4 (Conv2D)           (None, 32, 32, 64)        3136      \n",
            "                                                                 \n",
            " leaky_re_lu_6 (LeakyReLU)   (None, 32, 32, 64)        0         \n",
            "                                                                 \n",
            " conv2d_5 (Conv2D)           (None, 16, 16, 128)       131200    \n",
            "                                                                 \n",
            " leaky_re_lu_7 (LeakyReLU)   (None, 16, 16, 128)       0         \n",
            "                                                                 \n",
            " conv2d_6 (Conv2D)           (None, 8, 8, 128)         262272    \n",
            "                                                                 \n",
            " leaky_re_lu_8 (LeakyReLU)   (None, 8, 8, 128)         0         \n",
            "                                                                 \n",
            " flatten_1 (Flatten)         (None, 8192)              0         \n",
            "                                                                 \n",
            " dropout_1 (Dropout)         (None, 8192)              0         \n",
            "                                                                 \n",
            " dense_2 (Dense)             (None, 1)                 8193      \n",
            "                                                                 \n",
            "=================================================================\n",
            "Total params: 404,801\n",
            "Trainable params: 404,801\n",
            "Non-trainable params: 0\n",
            "_________________________________________________________________\n"
          ]
        }
      ],
      "source": [
        "discriminator.summary()"
      ]
    },
    {
      "cell_type": "markdown",
      "metadata": {
        "id": "94ofBErm07vm"
      },
      "source": [
        "##### The generator\n",
        "Next, let’s develop a generator model that turns a vector (from the latent space—during training it will be sampled at random) into a candidate image.\n",
        "\n",
        "##### GAN generator network"
      ]
    },
    {
      "cell_type": "code",
      "execution_count": 16,
      "metadata": {
        "id": "cV5dyJKG1OzR"
      },
      "outputs": [],
      "source": [
        "latent_dim = 128 # The latent space will be made of 128-dimensional vectors.\n",
        "\n",
        "generator = keras.Sequential(\n",
        "    [\n",
        "        keras.Input(shape=(latent_dim,)),\n",
        "        layers.Dense(8 * 8 * 128), # Produce the same number of coefficients we had at the level of the Flatten layer in the encoder.\n",
        "        layers.Reshape((8, 8, 128)),# Revert the Flatten layer of the encoder.\n",
        "        layers.Conv2DTranspose(128, kernel_size=4, strides=2, padding=\"same\"), # Revert the Conv2D layers of the encoder.\n",
        "        layers.LeakyReLU(alpha=0.2), # We use LeakyReLU as our activation.\n",
        "        layers.Conv2DTranspose(256, kernel_size=4, strides=2, padding=\"same\"),\n",
        "        layers.LeakyReLU(alpha=0.2),\n",
        "        layers.Conv2DTranspose(512, kernel_size=4, strides=2, padding=\"same\"),\n",
        "        layers.LeakyReLU(alpha=0.2),\n",
        "        layers.Conv2D(3, kernel_size=5, padding=\"same\", activation=\"sigmoid\"), # The output ends up with shape(28, 28, 1).\n",
        "    ],\n",
        "    name=\"generator\",\n",
        ")"
      ]
    },
    {
      "cell_type": "markdown",
      "metadata": {
        "id": "BhlPdmK52CKd"
      },
      "source": [
        "This is the generator model summary:"
      ]
    },
    {
      "cell_type": "code",
      "execution_count": 17,
      "metadata": {
        "colab": {
          "base_uri": "https://localhost:8080/"
        },
        "id": "XQCCj74K2DpY",
        "outputId": "f46b98b3-de2c-4723-80a6-5df328189e26"
      },
      "outputs": [
        {
          "name": "stdout",
          "output_type": "stream",
          "text": [
            "Model: \"generator\"\n",
            "_________________________________________________________________\n",
            " Layer (type)                Output Shape              Param #   \n",
            "=================================================================\n",
            " dense_3 (Dense)             (None, 8192)              1056768   \n",
            "                                                                 \n",
            " reshape_1 (Reshape)         (None, 8, 8, 128)         0         \n",
            "                                                                 \n",
            " conv2d_transpose_3 (Conv2DT  (None, 16, 16, 128)      262272    \n",
            " ranspose)                                                       \n",
            "                                                                 \n",
            " leaky_re_lu_9 (LeakyReLU)   (None, 16, 16, 128)       0         \n",
            "                                                                 \n",
            " conv2d_transpose_4 (Conv2DT  (None, 32, 32, 256)      524544    \n",
            " ranspose)                                                       \n",
            "                                                                 \n",
            " leaky_re_lu_10 (LeakyReLU)  (None, 32, 32, 256)       0         \n",
            "                                                                 \n",
            " conv2d_transpose_5 (Conv2DT  (None, 64, 64, 512)      2097664   \n",
            " ranspose)                                                       \n",
            "                                                                 \n",
            " leaky_re_lu_11 (LeakyReLU)  (None, 64, 64, 512)       0         \n",
            "                                                                 \n",
            " conv2d_7 (Conv2D)           (None, 64, 64, 3)         38403     \n",
            "                                                                 \n",
            "=================================================================\n",
            "Total params: 3,979,651\n",
            "Trainable params: 3,979,651\n",
            "Non-trainable params: 0\n",
            "_________________________________________________________________\n"
          ]
        }
      ],
      "source": [
        "generator.summary()"
      ]
    },
    {
      "cell_type": "markdown",
      "metadata": {
        "id": "jp4r_p5D2Lk9"
      },
      "source": [
        "##### The adversarial network\n",
        "Finally, we’ll set up the GAN, which chains the generator and the discriminator. When trained, this model will move the generator in a direction that improves its ability to fool the discriminator. This model turns latent-space points into a classification decision—“fake” or “real”—and it’s meant to be trained with labels that are always “these are real images.” So training gan will update the weights of generator in a way that makes discriminator more likely to predict “real” when looking at fake images. <br>\n",
        "To recapitulate, this is what the training loop looks like schematically. For each epoch, you do the following:\n",
        "1. Draw random points in the latent space (random noise).\n",
        "2. Generate images with generator using this random noise.\n",
        "3. Mix the generated images with real ones.\n",
        "4. Train discriminator using these mixed images, with corresponding targets: either “real” (for the real images) or “fake” (for the generated images).\n",
        "5. Draw new random points in the latent space.\n",
        "6. Train generator using these random vectors, with targets that all say “these are real images.” This updates the weights of the generator to move them toward getting the discriminator to predict “these are real images” for generated images: this trains the generator to fool the discriminator.\n",
        "\n",
        "Let’s implement it. Like in our VAE example, we’ll use a Model subclass with a custom train_step(). Note that we’ll use two optimizers (one for the generator and one for the discriminator), so we will also override compile() to allow for passing two optimizers.\n",
        "\n",
        "##### The GAN Model"
      ]
    },
    {
      "cell_type": "code",
      "execution_count": 18,
      "metadata": {
        "id": "KqmOz2pi4d6h"
      },
      "outputs": [],
      "source": [
        "import tensorflow as tf\n",
        "class GAN(keras.Model):\n",
        "    def __init__(self, discriminator, generator, latent_dim):\n",
        "        super().__init__()\n",
        "        self.discriminator = discriminator\n",
        "        self.generator = generator\n",
        "        self.latent_dim = latent_dim\n",
        "        # Sets up metrics to track the two losses over each training epoch\n",
        "        self.d_loss_metric = keras.metrics.Mean(name=\"d_loss\")\n",
        "        self.g_loss_metric = keras.metrics.Mean(name=\"g_loss\")\n",
        "\n",
        "    def compile(self, d_optimizer, g_optimizer, loss_fn):\n",
        "        super(GAN, self).compile()\n",
        "        self.d_optimizer = d_optimizer\n",
        "        self.g_optimizer = g_optimizer\n",
        "        self.loss_fn = loss_fn\n",
        "\n",
        "    @property\n",
        "    def metrics(self):\n",
        "        return [self.d_loss_metric, self.g_loss_metric]\n",
        "\n",
        "    def train_step(self, real_images):\n",
        "        # Samples random points in the latent space      \n",
        "        batch_size = tf.shape(real_images)[0]\n",
        "        random_latent_vectors = tf.random.normal(\n",
        "            shape=(batch_size, self.latent_dim))\n",
        "        # Decodes them to fake images\n",
        "        generated_images = self.generator(random_latent_vectors)\n",
        "        # Combines them with real images\n",
        "        combined_images = tf.concat([generated_images, real_images], axis=0)\n",
        "        # Assembles labels, discriminating real from fake images\n",
        "        labels = tf.concat(\n",
        "            [tf.ones((batch_size, 1)), tf.zeros((batch_size, 1))],\n",
        "            axis=0\n",
        "        )\n",
        "        # Adds random noise to the labels—an important trick!\n",
        "        labels += 0.05 * tf.random.uniform(tf.shape(labels))\n",
        "\n",
        "        # Trains the discriminator\n",
        "        with tf.GradientTape() as tape:\n",
        "            predictions = self.discriminator(combined_images)\n",
        "            d_loss = self.loss_fn(labels, predictions)\n",
        "        grads = tape.gradient(d_loss, self.discriminator.trainable_weights)\n",
        "        self.d_optimizer.apply_gradients(\n",
        "            zip(grads, self.discriminator.trainable_weights)\n",
        "        )\n",
        "\n",
        "        # Samples random points in the latent space\n",
        "        random_latent_vectors = tf.random.normal(\n",
        "            shape=(batch_size, self.latent_dim))\n",
        "\n",
        "        # Assembles labels that say “these are all real images” (it’s a lie!)\n",
        "        misleading_labels = tf.zeros((batch_size, 1))\n",
        "\n",
        "        # Trains the generator\n",
        "        with tf.GradientTape() as tape:\n",
        "            predictions = self.discriminator(\n",
        "                self.generator(random_latent_vectors))\n",
        "            g_loss = self.loss_fn(misleading_labels, predictions)\n",
        "        grads = tape.gradient(g_loss, self.generator.trainable_weights)\n",
        "        self.g_optimizer.apply_gradients(\n",
        "            zip(grads, self.generator.trainable_weights))\n",
        "\n",
        "        self.d_loss_metric.update_state(d_loss)\n",
        "        self.g_loss_metric.update_state(g_loss)\n",
        "        return {\"d_loss\": self.d_loss_metric.result(),\n",
        "                \"g_loss\": self.g_loss_metric.result()}"
      ]
    },
    {
      "cell_type": "markdown",
      "metadata": {
        "id": "Mi3o_Oz5fpZb"
      },
      "source": [
        "Before we start training, let’s also set up a callback to monitor our results: it will use the generator to create and save a number of fake images at the end of each epoch.\n",
        "\n",
        "##### A callback that samples generated images during training"
      ]
    },
    {
      "cell_type": "code",
      "execution_count": 19,
      "metadata": {
        "id": "KrUu5KusfxDc"
      },
      "outputs": [],
      "source": [
        "class GANMonitor(keras.callbacks.Callback):\n",
        "    def __init__(self, num_img=3, latent_dim=128):\n",
        "        self.num_img = num_img\n",
        "        self.latent_dim = latent_dim\n",
        "\n",
        "    def on_epoch_end(self, epoch, logs=None):\n",
        "        random_latent_vectors = tf.random.normal(shape=(self.num_img, self.latent_dim))\n",
        "        generated_images = self.model.generator(random_latent_vectors)\n",
        "        generated_images *= 255\n",
        "        generated_images.numpy()\n",
        "        for i in range(self.num_img):\n",
        "            img = keras.utils.array_to_img(generated_images[i])\n",
        "            img.save(f\"generated_img_{epoch:03d}_{i}.png\")"
      ]
    },
    {
      "cell_type": "markdown",
      "metadata": {
        "id": "h9AifSBC7Z08"
      },
      "source": [
        "Finally, we can start training.\n",
        "\n",
        "##### Compiling and training the GAN"
      ]
    },
    {
      "cell_type": "code",
      "execution_count": null,
      "metadata": {
        "id": "nSmpDRzp7dVy"
      },
      "outputs": [],
      "source": [
        "epochs = 100 # You’ll start getting interesting results after epoch 20.\n",
        "\n",
        "gan = GAN(discriminator=discriminator, generator=generator, latent_dim=latent_dim)\n",
        "gan.compile(\n",
        "    d_optimizer=keras.optimizers.Adam(learning_rate=0.0001),\n",
        "    g_optimizer=keras.optimizers.Adam(learning_rate=0.0001),\n",
        "    loss_fn=keras.losses.BinaryCrossentropy(),\n",
        ")\n",
        "\n",
        "gan.fit(\n",
        "    dataset, epochs=epochs, callbacks=[GANMonitor(num_img=10, latent_dim=latent_dim)]\n",
        ")"
      ]
    },
    {
      "cell_type": "markdown",
      "metadata": {
        "id": "hl5cxS0a7yTJ"
      },
      "source": [
        "When training, you may see the adversarial loss begin to increase considerably, while the discriminative loss tends to zero—the discriminator may end up dominating the generator. If that’s the case, try reducing the discriminator learning rate, and increase the dropout rate of the discriminator. <br>\n",
        "Figure 12.22 shows what our GAN is capable of generating after 30 epochs of training."
      ]
    },
    {
      "cell_type": "markdown",
      "metadata": {
        "id": "HLWn39IQ74tc"
      },
      "source": [
        "##### Wrapping up\n",
        "- A GAN consists of a generator network coupled with a discriminator network. The discriminator is trained to differentiate between the output of the generator and real images from a training dataset, and the generator is trained to fool the discriminator. Remarkably, the generator never sees images from the training set directly; the information it has about the data comes from the discriminator.\n",
        "- GANs are difficult to train, because training a GAN is a dynamic process rather than a simple gradient descent process with a fixed loss landscape. Getting a GAN to train correctly requires using a number of heuristic tricks, as well as extensive tuning.\n",
        "- GANs can potentially produce highly realistic images. But unlike VAEs, the latent space they learn doesn’t have a neat continuous structure and thus may not be suited for certain practical applications, such as image editing via latent space concept vectors.\n",
        "\n",
        "These few techniques cover only the basics of this fast-expanding field. There’s a lot more to discover out there—generative deep learning is deserving of an entire book of its own."
      ]
    },
    {
      "cell_type": "markdown",
      "metadata": {
        "id": "OJVLVmy589Aa"
      },
      "source": [
        "#### Summary\n",
        "- You can use a sequence-to-sequence model to generate sequence data, one step at a time. This is applicable to text generation, but also to note-by-note music generation or any other type of timeseries data.\n",
        "- DeepDream works by maximizing convnet layer activations through gradient ascent in input space.\n",
        "- In the style-transfer algorithm, a content image and a style image are combined together via gradient descent to produce an image with the high-level features of the content image and the local characteristics of the style image.\n",
        "- VAEs and GANs are models that learn a latent space of images and can then dream up entirely new images by sampling from the latent space. Concept vectors in the latent space can even be used for image editing."
      ]
    }
  ],
  "metadata": {
    "colab": {
      "collapsed_sections": [],
      "name": "ganscolab.ipynb",
      "provenance": []
    },
    "interpreter": {
      "hash": "f8ee13a16f7ff347d089854b949fd5a4fdba136de942caaffeaf6bff99e7e7f9"
    },
    "kernelspec": {
      "display_name": "Python 3.9.6 64-bit",
      "language": "python",
      "name": "python3"
    },
    "language_info": {
      "codemirror_mode": {
        "name": "ipython",
        "version": 3
      },
      "file_extension": ".py",
      "mimetype": "text/x-python",
      "name": "python",
      "nbconvert_exporter": "python",
      "pygments_lexer": "ipython3",
      "version": "3.9.6"
    },
    "orig_nbformat": 4
  },
  "nbformat": 4,
  "nbformat_minor": 0
}
