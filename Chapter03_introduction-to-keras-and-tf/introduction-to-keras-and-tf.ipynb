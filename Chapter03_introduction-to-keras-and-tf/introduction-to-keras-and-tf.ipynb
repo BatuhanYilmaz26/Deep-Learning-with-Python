{
 "cells": [
  {
   "cell_type": "markdown",
   "metadata": {},
   "source": [
    "### Introduction to Keras and TensorFlow\n",
    "\n",
    "In the previous chapter, you already had a first light contact with some of the corresponding TensorFlow and Keras APIs: you’ve briefly used TensorFlow’s Variable class, the matmul operation, and the GradientTape. You’ve instantiated Keras Dense layers, packed them into a Sequential model, and trained that model with the fit() method. <br>\n",
    "Now let’s take a deeper dive into how all of these different concepts can be approached in practice using TensorFlow and Keras."
   ]
  },
  {
   "cell_type": "markdown",
   "metadata": {},
   "source": [
    "### First steps with TensorFlow\n",
    "#### Constant tensors and variables\n",
    "To do anything in TensorFlow, we’re going to need some tensors. Tensors need to be created with some initial value. For instance, you could create all-ones or all-zeros tensors or tensors of values drawn from a random distribution.\n",
    "\n",
    "##### All-ones or all-zeros tensors"
   ]
  },
  {
   "cell_type": "code",
   "execution_count": 2,
   "metadata": {},
   "outputs": [
    {
     "name": "stdout",
     "output_type": "stream",
     "text": [
      "tf.Tensor(\n",
      "[[1.]\n",
      " [1.]], shape=(2, 1), dtype=float32)\n"
     ]
    }
   ],
   "source": [
    "import tensorflow as tf\n",
    "\n",
    "x = tf.ones(shape=(2, 1)) # Equivalent to np.ones(shape=(2, 1))\n",
    "print(x)"
   ]
  },
  {
   "cell_type": "code",
   "execution_count": 3,
   "metadata": {},
   "outputs": [
    {
     "name": "stdout",
     "output_type": "stream",
     "text": [
      "tf.Tensor(\n",
      "[[0.]\n",
      " [0.]], shape=(2, 1), dtype=float32)\n"
     ]
    }
   ],
   "source": [
    "x = tf.zeros(shape=(2, 1)) # Equivalent to np.zeros(shape=(2, 1))\n",
    "print(x)"
   ]
  },
  {
   "cell_type": "markdown",
   "metadata": {},
   "source": [
    "##### Random tensors"
   ]
  },
  {
   "cell_type": "code",
   "execution_count": 4,
   "metadata": {},
   "outputs": [
    {
     "name": "stdout",
     "output_type": "stream",
     "text": [
      "tf.Tensor(\n",
      "[[-1.785639  ]\n",
      " [-0.6084251 ]\n",
      " [ 0.76205087]], shape=(3, 1), dtype=float32)\n"
     ]
    }
   ],
   "source": [
    "x = tf.random.normal(shape=(3, 1), mean=0., stddev=1.) # Equivalent to np.random.normal(size=(3, 1), loc=0., scale=1.).\n",
    "# Tensor of random values drawn from a normal distribution with mean 0 and standard deviation 1.\n",
    "print(x)"
   ]
  },
  {
   "cell_type": "code",
   "execution_count": 5,
   "metadata": {},
   "outputs": [
    {
     "name": "stdout",
     "output_type": "stream",
     "text": [
      "tf.Tensor(\n",
      "[[0.24118769]\n",
      " [0.5413426 ]\n",
      " [0.38954782]], shape=(3, 1), dtype=float32)\n"
     ]
    }
   ],
   "source": [
    "x = tf.random.uniform(shape=(3, 1), minval=0., maxval=1.) # Equivalent to np.random.uniform(size=(3, 1), low=0., high=1.).\n",
    "# Tensor of random values drawn from a uniform distribution between 0 and 1.\n",
    "print(x)"
   ]
  },
  {
   "cell_type": "markdown",
   "metadata": {},
   "source": [
    "##### NumPy arrays are assignable\n",
    "A significant difference between NumPy arrays and TensorFlow tensors is that **TensorFlow tensors aren’t assignable: they’re constant.** <br>\n",
    "For instance, in NumPy, you can do the following."
   ]
  },
  {
   "cell_type": "code",
   "execution_count": 6,
   "metadata": {},
   "outputs": [],
   "source": [
    "import numpy as np\n",
    "\n",
    "x = np.ones(shape=(2, 2))\n",
    "x[0, 0] = 0."
   ]
  },
  {
   "cell_type": "markdown",
   "metadata": {},
   "source": [
    "##### TensorFlow tensors are not assignable\n",
    "Try to do the same thing in TensorFlow, and you will get an error: “EagerTensor object does not support item assignment.”"
   ]
  },
  {
   "cell_type": "code",
   "execution_count": 7,
   "metadata": {},
   "outputs": [
    {
     "ename": "TypeError",
     "evalue": "'tensorflow.python.framework.ops.EagerTensor' object does not support item assignment",
     "output_type": "error",
     "traceback": [
      "\u001b[1;31m---------------------------------------------------------------------------\u001b[0m",
      "\u001b[1;31mTypeError\u001b[0m                                 Traceback (most recent call last)",
      "\u001b[1;32mc:\\Users\\batuh\\Deep-Learning-with-Python\\Chapter03_introduction-to-keras-and-tf\\introduction-to-keras-and-tf.ipynb Cell 11'\u001b[0m in \u001b[0;36m<module>\u001b[1;34m\u001b[0m\n\u001b[0;32m      <a href='vscode-notebook-cell:/c%3A/Users/batuh/Deep-Learning-with-Python/Chapter03_introduction-to-keras-and-tf/introduction-to-keras-and-tf.ipynb#ch0000011?line=0'>1</a>\u001b[0m x \u001b[39m=\u001b[39m tf\u001b[39m.\u001b[39mones(shape\u001b[39m=\u001b[39m(\u001b[39m2\u001b[39m, \u001b[39m2\u001b[39m))\n\u001b[1;32m----> <a href='vscode-notebook-cell:/c%3A/Users/batuh/Deep-Learning-with-Python/Chapter03_introduction-to-keras-and-tf/introduction-to-keras-and-tf.ipynb#ch0000011?line=1'>2</a>\u001b[0m x[\u001b[39m0\u001b[39m, \u001b[39m0\u001b[39m] \u001b[39m=\u001b[39m \u001b[39m0.\u001b[39m\n",
      "\u001b[1;31mTypeError\u001b[0m: 'tensorflow.python.framework.ops.EagerTensor' object does not support item assignment"
     ]
    }
   ],
   "source": [
    "x = tf.ones(shape=(2, 2))\n",
    "x[0, 0] = 0."
   ]
  },
  {
   "cell_type": "markdown",
   "metadata": {},
   "source": [
    "##### Creating a TensorFlow variable\n",
    "To train a model, we’ll need to update its state, which is a set of tensors. If tensors aren’t assignable, how do we do it? <br>\n",
    "That’s where **variables** come in. <br>\n",
    "**tf.Variable** is the class meant to manage modifiable state in TensorFlow. You’ve already briefly seen it in action in the training loop implementation at the end of chapter 2. <br>\n",
    "To create a variable, you need to provide some initial value, such as a random tensor."
   ]
  },
  {
   "cell_type": "code",
   "execution_count": 8,
   "metadata": {},
   "outputs": [
    {
     "name": "stdout",
     "output_type": "stream",
     "text": [
      "<tf.Variable 'Variable:0' shape=(3, 1) dtype=float32, numpy=\n",
      "array([[-0.0419495 ],\n",
      "       [ 1.1424781 ],\n",
      "       [-0.32543883]], dtype=float32)>\n"
     ]
    }
   ],
   "source": [
    "v = tf.Variable(initial_value=tf.random.normal(shape=(3, 1)))\n",
    "print(v)"
   ]
  },
  {
   "cell_type": "markdown",
   "metadata": {},
   "source": [
    "##### Assigning a value to a TensorFlow variable\n",
    "The state of a variable can be modified via its assign method, as follows."
   ]
  },
  {
   "cell_type": "code",
   "execution_count": 9,
   "metadata": {},
   "outputs": [
    {
     "data": {
      "text/plain": [
       "<tf.Variable 'UnreadVariable' shape=(3, 1) dtype=float32, numpy=\n",
       "array([[1.],\n",
       "       [1.],\n",
       "       [1.]], dtype=float32)>"
      ]
     },
     "execution_count": 9,
     "metadata": {},
     "output_type": "execute_result"
    }
   ],
   "source": [
    "v.assign(tf.ones(shape=(3, 1)))"
   ]
  },
  {
   "cell_type": "markdown",
   "metadata": {},
   "source": [
    "##### Assigning a value to a subset of a TensorFlow variable\n",
    "It also works for a subset of the coefficients."
   ]
  },
  {
   "cell_type": "code",
   "execution_count": 10,
   "metadata": {},
   "outputs": [
    {
     "data": {
      "text/plain": [
       "<tf.Variable 'UnreadVariable' shape=(3, 1) dtype=float32, numpy=\n",
       "array([[3.],\n",
       "       [1.],\n",
       "       [1.]], dtype=float32)>"
      ]
     },
     "execution_count": 10,
     "metadata": {},
     "output_type": "execute_result"
    }
   ],
   "source": [
    "v[0, 0].assign(3.)"
   ]
  },
  {
   "cell_type": "markdown",
   "metadata": {},
   "source": [
    "##### Using assign_add()\n",
    "Similarly, **assign_add()** and **assign_sub()** are efficient equivalents of **+=** and **-=**, as shown next."
   ]
  },
  {
   "cell_type": "code",
   "execution_count": 11,
   "metadata": {},
   "outputs": [
    {
     "data": {
      "text/plain": [
       "<tf.Variable 'UnreadVariable' shape=(3, 1) dtype=float32, numpy=\n",
       "array([[4.],\n",
       "       [2.],\n",
       "       [2.]], dtype=float32)>"
      ]
     },
     "execution_count": 11,
     "metadata": {},
     "output_type": "execute_result"
    }
   ],
   "source": [
    "v.assign_add(tf.ones(shape=(3, 1)))"
   ]
  },
  {
   "cell_type": "markdown",
   "metadata": {},
   "source": [
    "#### Tensor operations: Doing math in TensorFlow\n",
    "Just like NumPy, TensorFlow offers a large collection of tensor operations to express mathematical formulas. <br>\n",
    "Here are a few examples.\n",
    "##### A few basic math operations"
   ]
  },
  {
   "cell_type": "code",
   "execution_count": 12,
   "metadata": {},
   "outputs": [],
   "source": [
    "a = tf.ones((2, 2))\n",
    "b = tf.square(a) # Take the square.\n",
    "c = tf.sqrt(a) # Take the square root.\n",
    "d = b + c # Add two tensors (element-wise).\n",
    "e = tf.matmul(a, b) # Take the product of two tensors(Multiply two matrices).\n",
    "e *= d # Multiply two tensors (element-wise)."
   ]
  },
  {
   "cell_type": "markdown",
   "metadata": {},
   "source": [
    "Importantly, each of the preceding operations gets executed on the fly: at any point, you can print what the current result is, just like in NumPy. <br>\n",
    "We call this **eager execution**."
   ]
  },
  {
   "cell_type": "markdown",
   "metadata": {},
   "source": [
    "#### A second look at the GradientTape API\n",
    "So far, TensorFlow seems to look a lot like NumPy. But here’s something NumPy can’t do: retrieve the gradient of any differentiable expression with respect to any of its inputs. <br>\n",
    "Just open a **GradientTape** scope, apply some computation to one or several input tensors, and retrieve the gradient of the result with respect to the inputs.\n",
    "\n",
    "##### Using the GradientTape"
   ]
  },
  {
   "cell_type": "code",
   "execution_count": 13,
   "metadata": {},
   "outputs": [],
   "source": [
    "input_var = tf.Variable(initial_value=3.)\n",
    "with tf.GradientTape() as tape:\n",
    "    result = tf.square(input_var)\n",
    "gradient = tape.gradient(result, input_var)"
   ]
  },
  {
   "cell_type": "markdown",
   "metadata": {},
   "source": [
    "##### Using GradientTape with constant tensor inputs\n",
    "This is most commonly used to retrieve the gradients of the loss of a model with respect to its weights: gradients = tape.gradient(loss, weights). You saw this in action in chapter 2. <br>\n",
    "So far, you’ve only seen the case where the input tensors in tape.gradient() were TensorFlow variables. It’s actually possible for these inputs to be any arbitrary tensor. <br>\n",
    "However, only **trainable variables** are tracked by default. With a constant tensor, you’d have to manually mark it as being tracked by calling **tape.watch()** on it."
   ]
  },
  {
   "cell_type": "code",
   "execution_count": 14,
   "metadata": {},
   "outputs": [],
   "source": [
    "input_const = tf.constant(3.)\n",
    "with tf.GradientTape() as tape:\n",
    "   tape.watch(input_const)\n",
    "   result = tf.square(input_const)\n",
    "gradient = tape.gradient(result, input_const)"
   ]
  },
  {
   "cell_type": "markdown",
   "metadata": {},
   "source": [
    "##### Using nested gradient tapes to compute second-order gradients\n",
    "Why is this necessary? Because it would be too expensive to preemptively store the information required to compute the gradient of anything with respect to anything. To avoid wasting resources, the tape needs to know what to watch. Trainable variables are watched by default because computing the gradient of a loss with regard to a list of trainable variables is the most common use of the gradient tape. The gradient tape is a powerful utility, even capable of computing second-order gradients, that is to say, the gradient of a gradient. For instance, the gradient of the position of an object with regard to time is the speed of that object, and the second-order gradient is its acceleration. <br>\n",
    "If you measure the position of a falling apple along a vertical axis over time and find that it verifies position(time) = 4.9 * time ** 2, what is its acceleration?\n",
    "\n",
    "Let’s use two nested gradient tapes to find out."
   ]
  },
  {
   "cell_type": "code",
   "execution_count": 16,
   "metadata": {},
   "outputs": [],
   "source": [
    "time = tf.Variable(0.)\n",
    "with tf.GradientTape() as outer_tape:\n",
    "    with tf.GradientTape() as inner_tape:\n",
    "        position =  4.9 * time ** 2\n",
    "    speed = inner_tape.gradient(position, time)\n",
    "acceleration = outer_tape.gradient(speed, time)\n",
    "# We use the outer tape to compute the gradient of the gradient from the inner tape. \n",
    "# Naturally, the answer is 4.9 * 2 = 9.8."
   ]
  },
  {
   "cell_type": "markdown",
   "metadata": {},
   "source": [
    "#### An end-to-end example: A linear classifier in pure TensorFlow\n",
    "You know about tensors, variables, and tensor operations, and you know how to compute gradients. That’s enough to build any machine learning model based on gradient descent. And you’re only at chapter 3! <br>\n",
    "In a machine learning job interview, you may be asked to implement a linear classifier from scratch in TensorFlow: a very simple task that serves as a filter between candidates who have some minimal machine learning background and those who don’t. <br>\n",
    "Let’s get you past that filter and use your newfound knowledge of TensorFlow to implement such a linear classifier.\n",
    "\n",
    "First, let’s come up with some nicely linearly separable synthetic data to work with: two classes of points in a 2D plane. We’ll generate each class of points by drawing their coordinates from a random distribution with a specific covariance matrix and a specific mean. Intuitively, the covariance matrix describes the shape of the point cloud, and the mean describes its position in the plane (see figure 3.6 . We’ll reuse the same covariance matrix for both point clouds, but we’ll use two different mean values—the point clouds will have the same shape, but different positions.\n",
    "\n",
    "##### Generating two classes of random points in a 2D plane"
   ]
  },
  {
   "cell_type": "code",
   "execution_count": 18,
   "metadata": {},
   "outputs": [],
   "source": [
    "num_samples_per_class = 1000\n",
    "negative_samples = np.random.multivariate_normal(\n",
    "    mean=[0, 3],\n",
    "    cov=[[1, 0.5],[0.5, 1]],\n",
    "    size=num_samples_per_class)\n",
    "# Generate the first class of points: 1000 random 2D points. cov=[[1, 0.5],[0.5, 1]] corresponds to an oval-like point cloud oriented from bottom left to top right.\n",
    "\n",
    "positive_samples = np.random.multivariate_normal(\n",
    "    mean=[3, 0],\n",
    "    cov=[[1, 0.5],[0.5, 1]],\n",
    "    size=num_samples_per_class)\n",
    "# Generate the other class of points with a different mean and the same covariance matrix."
   ]
  },
  {
   "cell_type": "markdown",
   "metadata": {},
   "source": [
    "##### Stacking the two classes into an array with shape (2000, 2)\n",
    "In the preceding code, negative_samples and positive_samples are both arrays with shape (1000, 2). Let’s stack them into a single array with shape (2000, 2)."
   ]
  },
  {
   "cell_type": "code",
   "execution_count": 19,
   "metadata": {},
   "outputs": [],
   "source": [
    "inputs = np.vstack((negative_samples, positive_samples)).astype(np.float32)"
   ]
  },
  {
   "cell_type": "markdown",
   "metadata": {},
   "source": [
    "##### Generating the corresponding targets (0 and 1)\n",
    "Let’s generate the corresponding target labels, an array of zeros and ones of shape (2000, 1), where targets[i, 0] is 0 if inputs[i] belongs to class 0 (and inversely)."
   ]
  },
  {
   "cell_type": "code",
   "execution_count": 20,
   "metadata": {},
   "outputs": [],
   "source": [
    "targets = np.vstack((np.zeros((num_samples_per_class, 1), dtype=\"float32\"),\n",
    "                     np.ones((num_samples_per_class, 1), dtype=\"float32\")))"
   ]
  },
  {
   "cell_type": "markdown",
   "metadata": {},
   "source": [
    "##### Plotting the two point classes (see figure 3.6)\n",
    "Next, let’s plot our data with Matplotlib."
   ]
  },
  {
   "cell_type": "code",
   "execution_count": 22,
   "metadata": {},
   "outputs": [
    {
     "data": {
      "image/png": "[encoded data removed]",
      "text/plain": [
       "<Figure size 432x288 with 1 Axes>"
      ]
     },
     "metadata": {
      "needs_background": "light"
     },
     "output_type": "display_data"
    }
   ],
   "source": [
    "import matplotlib.pyplot as plt\n",
    "\n",
    "plt.scatter(inputs[:, 0], inputs[:, 1], c=targets[:, 0])\n",
    "plt.show()"
   ]
  },
  {
   "cell_type": "markdown",
   "metadata": {},
   "source": [
    "##### Creating the linear classifier variables\n",
    "Now let’s create a linear classifier that can learn to separate these two blobs. A linear classifier is an affine transformation (prediction = W • input + b) trained to minimize the square of the difference between predictions and the targets. <br>\n",
    "As you’ll see, it’s actually a much simpler example than the end-to-end example of a toy two-layer neural network you saw at the end of chapter 2. However, this time you should be able to understand everything about the code, line by line.\n",
    "\n",
    "Let’s create our variables, W and b, initialized with random values and with zeros,\n",
    "respectively."
   ]
  },
  {
   "cell_type": "code",
   "execution_count": 24,
   "metadata": {},
   "outputs": [],
   "source": [
    "input_dim = 2 # The inputs will be 2D points.\n",
    "output_dim = 1 # The output predictions will be a single score per sample (close to 0 if the sample is predicted to be in class 0, and close to 1 if the sample is predicted to be in class 1).\n",
    "W = tf.Variable(initial_value=tf.random.uniform(shape=(input_dim, output_dim)))\n",
    "b = tf.Variable(initial_value=tf.zeros(shape=(output_dim,)))"
   ]
  },
  {
   "cell_type": "markdown",
   "metadata": {},
   "source": [
    "##### The forward pass function\n",
    "Here’s our forward pass function."
   ]
  },
  {
   "cell_type": "code",
   "execution_count": 25,
   "metadata": {},
   "outputs": [],
   "source": [
    "def model(inputs):\n",
    "    return tf.matmul(inputs, W) + b"
   ]
  },
  {
   "cell_type": "markdown",
   "metadata": {},
   "source": [
    "##### The mean squared error loss function\n",
    "Because our linear classifier operates on 2D inputs, W is really just two scalar coefficients, w1 and w2: W = [[w1], [w2]]. Meanwhile, b is a single scalar coefficient. <br>\n",
    "As such, for a given input point [x, y], its prediction value is prediction = [[w1], [w2]] • [x, y] + b = w1 * x + w2 * y + b."
   ]
  },
  {
   "cell_type": "code",
   "execution_count": 26,
   "metadata": {},
   "outputs": [],
   "source": [
    "def square_loss(targets, predictions):\n",
    "    per_sample_losses = tf.square(targets - predictions)\n",
    "    return tf.reduce_mean(per_sample_losses)"
   ]
  },
  {
   "cell_type": "markdown",
   "metadata": {},
   "source": [
    "##### The training step function\n",
    "Next is the training step, which receives some training data and updates the weights W and b so as to minimize the loss on the data."
   ]
  },
  {
   "cell_type": "code",
   "execution_count": 27,
   "metadata": {},
   "outputs": [],
   "source": [
    "learning_rate = 0.1\n",
    "\n",
    "def training_step(inputs, targets):\n",
    "    with tf.GradientTape() as tape:\n",
    "        predictions = model(inputs)\n",
    "        loss = square_loss(targets, predictions)\n",
    "    grad_loss_wrt_W, grad_loss_wrt_b = tape.gradient(loss, [W, b])\n",
    "    W.assign_sub(grad_loss_wrt_W * learning_rate)\n",
    "    b.assign_sub(grad_loss_wrt_b * learning_rate)\n",
    "    return loss"
   ]
  },
  {
   "cell_type": "markdown",
   "metadata": {},
   "source": [
    "##### The batch training loop\n",
    "For simplicity, we’ll do **batch training** instead of **mini-batch training**: we’ll run each training step (gradient computation and weight update) for all the data, rather than iterate over the data in small batches. On one hand, this means that each training step will take much longer to run, since we’ll compute the forward pass and the gradients for 2,000 samples at once. On the other hand, each gradient update will be much more effective at reducing the loss on the training data, since it will encompass information from all training samples instead of, say, only 128 random samples. <br>\n",
    "As a result, we will need many fewer steps of training, and we should use a larger learning rate than we would typically use for mini-batch training.(we’ll use learning_rate = 0.1)"
   ]
  },
  {
   "cell_type": "code",
   "execution_count": 28,
   "metadata": {},
   "outputs": [
    {
     "name": "stdout",
     "output_type": "stream",
     "text": [
      "Loss at step 0: 1.8869\n",
      "Loss at step 1: 0.1586\n",
      "Loss at step 2: 0.1045\n",
      "Loss at step 3: 0.0922\n",
      "Loss at step 4: 0.0857\n",
      "Loss at step 5: 0.0803\n",
      "Loss at step 6: 0.0755\n",
      "Loss at step 7: 0.0711\n",
      "Loss at step 8: 0.0671\n",
      "Loss at step 9: 0.0634\n",
      "Loss at step 10: 0.0600\n",
      "Loss at step 11: 0.0570\n",
      "Loss at step 12: 0.0542\n",
      "Loss at step 13: 0.0516\n",
      "Loss at step 14: 0.0493\n",
      "Loss at step 15: 0.0472\n",
      "Loss at step 16: 0.0452\n",
      "Loss at step 17: 0.0434\n",
      "Loss at step 18: 0.0418\n",
      "Loss at step 19: 0.0403\n",
      "Loss at step 20: 0.0390\n",
      "Loss at step 21: 0.0377\n",
      "Loss at step 22: 0.0366\n",
      "Loss at step 23: 0.0356\n",
      "Loss at step 24: 0.0346\n",
      "Loss at step 25: 0.0337\n",
      "Loss at step 26: 0.0330\n",
      "Loss at step 27: 0.0322\n",
      "Loss at step 28: 0.0316\n",
      "Loss at step 29: 0.0310\n",
      "Loss at step 30: 0.0304\n",
      "Loss at step 31: 0.0299\n",
      "Loss at step 32: 0.0295\n",
      "Loss at step 33: 0.0291\n",
      "Loss at step 34: 0.0287\n",
      "Loss at step 35: 0.0283\n",
      "Loss at step 36: 0.0280\n",
      "Loss at step 37: 0.0277\n",
      "Loss at step 38: 0.0275\n",
      "Loss at step 39: 0.0272\n"
     ]
    }
   ],
   "source": [
    "for step in range(40):\n",
    "    loss = training_step(inputs, targets)\n",
    "    print(f\"Loss at step {step}: {loss:.4f}\")"
   ]
  },
  {
   "cell_type": "markdown",
   "metadata": {},
   "source": [
    "After 40 steps, the training loss seems to have stabilized around 0.025. Let’s plot how our linear model classifies the training data points. Because our targets are zeros and ones, a given input point will be classified as “0” if its prediction value is below 0.5, and as “1” if it is above 0.5."
   ]
  },
  {
   "cell_type": "code",
   "execution_count": 29,
   "metadata": {},
   "outputs": [
    {
     "data": {
      "image/png": "[encoded data removed]",
      "text/plain": [
       "<Figure size 432x288 with 1 Axes>"
      ]
     },
     "metadata": {
      "needs_background": "light"
     },
     "output_type": "display_data"
    }
   ],
   "source": [
    "predictions = model(inputs)\n",
    "plt.scatter(inputs[:, 0], inputs[:, 1], c=predictions[:, 0] > 0.5)\n",
    "plt.show()"
   ]
  },
  {
   "cell_type": "markdown",
   "metadata": {},
   "source": [
    "Recall that the prediction value for a given point [x, y] is simply prediction == [[w1], [w2]] • [x, y] + b == w1 * x + w2 * y + b. Thus, class 0 is defined as w1 * x + w2 * y + b < 0.5, and class 1 is defined as w1 * x + w2 * y + b > 0.5. You’ll notice that what you’re looking at is really the equation of a line in the 2D plane: w1 * x + w2 * y + b = 0.5. <br>\n",
    "Above the line is class 1, and below the line is class 0. You may be used to seeing line equations in the format y = a * x + b; in the same format, our line becomes y = - w1 / w2 * x + (0.5 - b) / w2.\n",
    "\n",
    "Let’s plot this line"
   ]
  },
  {
   "cell_type": "code",
   "execution_count": 31,
   "metadata": {},
   "outputs": [
    {
     "data": {
      "text/plain": [
       "<matplotlib.collections.PathCollection at 0x14a50050460>"
      ]
     },
     "execution_count": 31,
     "metadata": {},
     "output_type": "execute_result"
    },
    {
     "data": {
      "image/png": "[encoded data removed]",
      "text/plain": [
       "<Figure size 432x288 with 1 Axes>"
      ]
     },
     "metadata": {
      "needs_background": "light"
     },
     "output_type": "display_data"
    }
   ],
   "source": [
    "x = np.linspace(-1, 4, 100) # Generate 100 regularly spaced numbers between –1 and 4, which we will use to plot our line.\n",
    "y = - W[0] /  W[1] * x + (0.5 - b) / W[1] # This is our line’s equation.\n",
    "plt.plot(x, y, \"-r\") # Plot our line (\"-r\" means “plot it as a red line”).\n",
    "plt.scatter(inputs[:, 0], inputs[:, 1], c=predictions[:, 0] > 0.5) # Plot our model’s predictions on the same plot."
   ]
  },
  {
   "cell_type": "markdown",
   "metadata": {},
   "source": [
    "This is really what a linear classifier is all about: finding the parameters of a line (or, in higher-dimensional spaces, a hyperplane) neatly separating two classes of data."
   ]
  },
  {
   "cell_type": "markdown",
   "metadata": {},
   "source": [
    "### Anatomy of a neural network: Understanding core Keras APIs\n",
    "#### Layers: The building blocks of deep learning\n",
    "The fundamental data structure in neural networks is the layer, to which you were introduced in chapter 2. \n",
    "- A layer is a data processing module that takes as input one or more tensors and that outputs one or more tensors. \n",
    "- Some layers are stateless, but more frequently layers have a state: the layer’s weights, one or several tensors learned with stochastic gradient descent, which together contain the network’s knowledge.\n",
    "- Different types of layers are appropriate for different tensor formats and different types of data processing. \n",
    "- For instance, **simple vector data, stored in rank-2 tensors of shape (samples, features), is often processed by densely connected layers, also called fully connected or dense layers (the Dense class in Keras).**\n",
    "- **Sequence data, stored in rank-3 tensors of shape (samples, timesteps, features), is typically processed by recurrent layers, such as an LSTM layer, or 1D convolution layers (Conv1D).**\n",
    "- **Image data, stored in rank-4 tensors, is usually processed by 2D convolution layers (Conv2D).**\n",
    "\n",
    "You can think of layers as the LEGO bricks of deep learning, a metaphor that is made explicit by Keras. Building deep learning models in Keras is done by clipping together compatible layers to form useful data-transformation pipelines."
   ]
  },
  {
   "cell_type": "markdown",
   "metadata": {},
   "source": [
    "##### THE BASE LAYER CLASS IN KERAS\n",
    "A simple API should have a single abstraction around which everything is centered. In Keras, that’s the Layer class. Everything in Keras is either a Layer or something that closely interacts with a Layer. <br>\n",
    "A Layer is an object that encapsulates some state (weights) and some computation (a forward pass). The weights are typically defined in a build() (although they could also be created in the constructor, __init__()), and the computation is defined in the call() method. <br>\n",
    "In the previous chapter, we implemented a NaiveDense class that contained two weights W and b and applied the computation output = activation(dot(input, W) + b). This is what the same layer would look like in Keras.\n",
    "\n",
    "##### A Dense layer implemented as a Layer subclass"
   ]
  },
  {
   "cell_type": "code",
   "execution_count": 34,
   "metadata": {},
   "outputs": [],
   "source": [
    "from tensorflow import keras\n",
    "\n",
    "class SimpleDense(keras.layers.Layer): # All Keras layers inherit from the base Layer class.\n",
    "\n",
    "    def __init__(self, units, activation=None):\n",
    "        super().__init__()\n",
    "        self.units = units\n",
    "        self.activation = activation\n",
    "    \n",
    "    def build(self, input_shape): # Weight creation takes place in the build() method.\n",
    "        input_dim = input_shape[-1]\n",
    "        self.W = self.add_weight(shape=(input_dim, self.units), initializer=\"random_normal\")\n",
    "        self.b = self.add_weight(shape=(self.units,), initializer=\"zeros\")\n",
    "        # add_weight() is a shortcut method for creating weights.\n",
    "        # It is also possible to create standalone variables and assign them as layer attributes, like self.W = tf.Variable(tf.random.uniform(w_shape)).\n",
    "    \n",
    "    def call(self, inputs): # We define the forward pass computation in the call() method.\n",
    "        y = tf.matmul(inputs, self.W) + self.b\n",
    "        if self.activation is not None:\n",
    "            y = self.activation(y)\n",
    "        return y"
   ]
  },
  {
   "cell_type": "markdown",
   "metadata": {},
   "source": [
    "Once instantiated, a layer like this can be used just like a function, taking as input a TensorFlow tensor:"
   ]
  },
  {
   "cell_type": "code",
   "execution_count": 36,
   "metadata": {},
   "outputs": [
    {
     "name": "stdout",
     "output_type": "stream",
     "text": [
      "(2, 32)\n"
     ]
    }
   ],
   "source": [
    "my_dense = SimpleDense(units=32, activation=tf.nn.relu) # Instantiate our layer, defined previously.\n",
    "input_tensor = tf.ones(shape=(2, 784)) # Create some test inputs.\n",
    "output_tensor = my_dense(input_tensor) # Call the layer on the inputs, just like a function.\n",
    "print(output_tensor.shape)"
   ]
  },
  {
   "cell_type": "markdown",
   "metadata": {},
   "source": [
    "You’re probably wondering, why did we have to implement call() and build(), since we ended up using our layer by plainly calling it, that is to say, by using its __call__() method? It’s because we want to be able to create the state just in time. Let’s see how that works.\n",
    "##### AUTOMATIC SHAPE INFERENCE: BUILDING LAYERS ON THE FLY\n",
    "Just like with LEGO bricks, you can only “clip” together layers that are compatible. <br>\n",
    "The notion of layer compatibility here refers specifically to the fact that every layer will only accept input tensors of a certain shape and will return output tensors of a certain shape. \n",
    "\n",
    "Consider the following example:"
   ]
  },
  {
   "cell_type": "code",
   "execution_count": 38,
   "metadata": {},
   "outputs": [],
   "source": [
    "from tensorflow.keras import layers\n",
    "\n",
    "layer = layers.Dense(units=32, activation=\"relu\") # A dense layer with 32 output units"
   ]
  },
  {
   "cell_type": "markdown",
   "metadata": {},
   "source": [
    "This layer will return a tensor where the first dimension has been transformed to be 32. It can only be connected to a downstream layer that expects 32-dimensional vectors as its input. <br>\n",
    "When using Keras, you don’t have to worry about size compatibility most of the time, because the layers you add to your models are dynamically built to match the shape of the incoming layer. \n",
    "\n",
    "For instance, suppose you write the following:"
   ]
  },
  {
   "cell_type": "code",
   "execution_count": 39,
   "metadata": {},
   "outputs": [],
   "source": [
    "from tensorflow.keras import models\n",
    "from tensorflow.keras import layers\n",
    "\n",
    "model = models.Sequential([\n",
    "    layers.Dense(32, activation=\"relu\"),\n",
    "    layers.Dense(32)\n",
    "])"
   ]
  },
  {
   "cell_type": "markdown",
   "metadata": {},
   "source": [
    "The layers didn’t receive any information about the shape of their inputs—instead, they automatically inferred their input shape as being the shape of the first inputs they see. <br>\n",
    "With automatic shape inference, our previous example becomes simple and neat:"
   ]
  },
  {
   "cell_type": "code",
   "execution_count": 40,
   "metadata": {},
   "outputs": [],
   "source": [
    "model = keras.Sequential([\n",
    "    SimpleDense(32, activation=\"relu\"),\n",
    "    SimpleDense(64, activation=\"relu\"),\n",
    "    SimpleDense(32, activation=\"relu\"),\n",
    "    SimpleDense(10, activation=\"softmax\")\n",
    "])"
   ]
  },
  {
   "cell_type": "markdown",
   "metadata": {},
   "source": [
    "#### From layers to models\n",
    "A deep learning model is a graph of layers. In Keras, that’s the **Model** class. Until now, you’ve only seen **Sequential** models (a subclass of Model), which are simple stacks of layers, mapping a single input to a single output. But as you move forward, you’ll be exposed to a much broader variety of network topologies. These are some common ones:\n",
    "- Two-branch networks\n",
    "- Multihead networks\n",
    "- Residual connections\n",
    "\n",
    "There are generally two ways of building such models in Keras: you could directly subclass the Model class, or you could use the Functional API, which lets you do more with less code. We’ll cover both approaches in chapter 7. <br>"
   ]
  },
  {
   "cell_type": "markdown",
   "metadata": {},
   "source": [
    "##### The “compile” step: Configuring the learning process\n",
    "Once the model architecture is defined, you still have to choose three more things:\n",
    "- **Loss function (objective function)**—The quantity that will be minimized during training. It represents a measure of success for the task at hand.\n",
    "- **Optimizer**—Determines how the network will be updated based on the loss function. It implements a specific variant of stochastic gradient descent (SGD).\n",
    "- **Metrics**—The measures of success you want to monitor during training and validation, such as classification accuracy. Unlike the loss, training will not optimize directly for these metrics. As such, metrics don’t need to be differentiable.\n",
    "\n",
    "Once you’ve picked your loss, optimizer, and metrics, you can use the built-in **compile()** and **fit()** methods to start training your model. Alternatively, you could also write your own custom training loops—we’ll cover how to do this in chapter 7. It’s a lot more work! <br>\n",
    "For now, let’s take a look at **compile()** and **fit()**. <br>\n",
    "The **compile()** method configures the training process—you’ve already been introduced to it in your very first neural network example in chapter 2. It takes the arguments **optimizer**, **loss**, and **metrics** (a list):"
   ]
  },
  {
   "cell_type": "code",
   "execution_count": 41,
   "metadata": {},
   "outputs": [],
   "source": [
    "model = keras.Sequential([keras.layers.Dense(1)]) # Define a linear classifier.\n",
    "model.compile(optimizer=\"rmsprop\", # Specify the optimizer by name: RMSprop (it’s case-insensitive).\n",
    "              loss=\"mean_squared_error\", # Specify the loss function by name: mean squared error.\n",
    "              metrics=[\"accuracy\"]) # Specify a list of metrics: in this case, only accuracy."
   ]
  },
  {
   "cell_type": "markdown",
   "metadata": {},
   "source": [
    "In the preceding call to **compile()**, we passed the optimizer, loss, and metrics as\n",
    "strings (such as \"rmsprop\"). <br>\n",
    "These strings are actually shortcuts that get converted to Python objects. <br>\n",
    "For instance, \"rmsprop\" becomes keras.optimizers.RMSprop(). <br>\n",
    "Importantly, it’s also possible to specify these arguments as object instances, like this:"
   ]
  },
  {
   "cell_type": "code",
   "execution_count": 42,
   "metadata": {},
   "outputs": [],
   "source": [
    "model.compile(optimizer=keras.optimizers.RMSprop(),\n",
    "              loss=keras.losses.MeanSquaredError(),\n",
    "              metrics=[keras.metrics.BinaryAccuracy()])"
   ]
  },
  {
   "cell_type": "markdown",
   "metadata": {},
   "source": [
    "This is useful if you want to pass your own custom losses or metrics, or if you want to further configure the objects you’re using—for instance, by passing a **learning_rate** argument to the optimizer:\n",
    "```python\n",
    "model.compile(optimizer=keras.optimizers.RMSprop(learning_rate=1e-4),\n",
    "loss=my_custom_loss,\n",
    "metrics=[my_custom_metric_1, my_custom_metric_2])\n",
    "```"
   ]
  },
  {
   "cell_type": "markdown",
   "metadata": {},
   "source": [
    "In chapter 7, we’ll cover how to create custom losses and metrics. In general, you won’t have to create your own losses, metrics, or optimizers from scratch, because Keras offers a wide range of built-in options that is likely to include what you need: <br>\n",
    "**Optimizers**:\n",
    "- SGD (with or without momentum)\n",
    "- RMSprop\n",
    "- Adam\n",
    "- Adagrad\n",
    "- Etc.\n",
    "\n",
    "**Losses**:\n",
    "- CategoricalCrossentropy\n",
    "- SparseCategoricalCrossentropy\n",
    "- BinaryCrossentropy\n",
    "- MeanSquaredError\n",
    "- KLDivergence\n",
    "- CosineSimilarity\n",
    "- Etc.\n",
    "\n",
    "**Metrics**:\n",
    "- CategoricalAccuracy\n",
    "- SparseCategoricalAccuracy\n",
    "- BinaryAccuracy\n",
    "- AUC\n",
    "- Precision\n",
    "- Recall\n",
    "- Etc.\n",
    "\n",
    "Throughout this book, you’ll see concrete applications of many of these options."
   ]
  },
  {
   "cell_type": "markdown",
   "metadata": {},
   "source": [
    "##### Picking a loss function\n",
    "**Choosing the right loss function for the right problem is extremely important**: your network will take any shortcut it can to minimize the loss, so if the objective doesn’t fully correlate with success for the task at hand, your network will end up doing things you may not have wanted. <br>\n",
    "Imagine a stupid, omnipotent AI trained via SGD with this poorly chosen objective function: “maximizing the average well-being of all humans alive.” To make its job easier, this AI might choose to kill all humans except a few and focus on the well-being of the remaining ones—because average well-being isn’t affected by how many humans are left. That might not be what you intended! <br>\n",
    "Just remember that all neural networks you build will be just as ruthless in lowering their loss function—so choose the objective wisely, or you’ll have to face unintended side effects.\n",
    "\n",
    "Fortunately, when it comes to common problems such as classification, regression, and sequence prediction, there are simple guidelines you can follow to choose the correct loss. <br>\n",
    "For instance, you’ll use **binary crossentropy for a two-class classification problem**, **categorical crossentropy for a many-class classification problem**, and so on. <br>\n",
    "Only when you’re working on truly new research problems will you have to develop your own loss functions. In the next few chapters, we’ll detail explicitly which loss functions to choose for a wide range of common tasks."
   ]
  },
  {
   "cell_type": "markdown",
   "metadata": {},
   "source": [
    "##### Understanding the fit() method\n",
    "After **compile()** comes **fit()**. <br>\n",
    "The **fit()** method implements the training loop itself. <br>\n",
    "These are its key arguments:\n",
    "- **The data (inputs and targets)** to train on. It will typically be passed either in the form of NumPy arrays or a TensorFlow **Dataset** object. You’ll learn more about the **Dataset** API in the next chapters.\n",
    "- The number of **epochs** to train for: how many times the training loop should iterate over the data passed.\n",
    "- The **batch size** to use within each epoch of mini-batch gradient descent: the number of training examples considered to compute the gradients for one weight update step.\n",
    "\n",
    "##### Calling fit() with NumPy data"
   ]
  },
  {
   "cell_type": "code",
   "execution_count": 43,
   "metadata": {},
   "outputs": [
    {
     "name": "stdout",
     "output_type": "stream",
     "text": [
      "Epoch 1/5\n",
      "16/16 [==============================] - 1s 1000us/step - loss: 13.4006 - binary_accuracy: 0.4995\n",
      "Epoch 2/5\n",
      "16/16 [==============================] - 0s 1ms/step - loss: 12.8163 - binary_accuracy: 0.5000\n",
      "Epoch 3/5\n",
      "16/16 [==============================] - 0s 1000us/step - loss: 12.3210 - binary_accuracy: 0.5005\n",
      "Epoch 4/5\n",
      "16/16 [==============================] - 0s 933us/step - loss: 11.8465 - binary_accuracy: 0.5015\n",
      "Epoch 5/5\n",
      "16/16 [==============================] - 0s 1ms/step - loss: 11.3836 - binary_accuracy: 0.5015\n"
     ]
    }
   ],
   "source": [
    "history = model.fit(\n",
    "    inputs, # The input examples, as a NumPy array\n",
    "    targets, # The corresponding training targets, as a NumPy array\n",
    "    epochs=5, # The training loop will iterate over the data 5 times.\n",
    "    batch_size=128 # The training loop will iterate over the data in batches of 128 examples.\n",
    ")"
   ]
  },
  {
   "cell_type": "markdown",
   "metadata": {},
   "source": [
    "The call to **fit()** returns a **History** object. <br>\n",
    "This object contains a **history** field, which is a **dict mapping keys such as \"loss\" or specific metric names** to the list of their perepoch values."
   ]
  },
  {
   "cell_type": "code",
   "execution_count": 44,
   "metadata": {},
   "outputs": [
    {
     "data": {
      "text/plain": [
       "{'loss': [13.400630950927734,\n",
       "  12.816329002380371,\n",
       "  12.321022987365723,\n",
       "  11.846543312072754,\n",
       "  11.383577346801758],\n",
       " 'binary_accuracy': [0.49950000643730164,\n",
       "  0.5,\n",
       "  0.5005000233650208,\n",
       "  0.5015000104904175,\n",
       "  0.5015000104904175]}"
      ]
     },
     "execution_count": 44,
     "metadata": {},
     "output_type": "execute_result"
    }
   ],
   "source": [
    "history.history"
   ]
  },
  {
   "cell_type": "markdown",
   "metadata": {},
   "source": [
    "##### Monitoring loss and metrics on validation data\n",
    "The goal of machine learning is not to obtain models that perform well on the training data, which is easy—all you have to do is follow the gradient. <br>\n",
    "**The goal is to obtain models that perform well in general, and particularly on data points that the model has never encountered before.** Just because a model performs well on its training data doesn’t mean it will perform well on data it has never seen! <br>\n",
    "For instance, it’s possible that your model could end up merely memorizing a mapping between your training samples and their targets, which would be useless for the task of predicting targets for data the model has never seen before. We’ll go over this point in much more detail in chapter 5.\n",
    "\n",
    "To keep an eye on how the model does on new data, it’s standard practice to **reserve a subset of the training data as *validation data*:** you won’t be training the model on this data, but you will use it to compute a loss value and metrics value. <br>\n",
    "You do this by using the **validation_data** argument in **fit()**. Like the training data, the validation data could be passed as NumPy arrays or as a TensorFlow Dataset object.\n",
    "\n",
    "##### Using the validation_data argument"
   ]
  },
  {
   "cell_type": "code",
   "execution_count": 46,
   "metadata": {},
   "outputs": [
    {
     "name": "stdout",
     "output_type": "stream",
     "text": [
      "Epoch 1/5\n",
      "88/88 [==============================] - 1s 3ms/step - loss: 0.1545 - binary_accuracy: 0.9264 - val_loss: 0.0816 - val_binary_accuracy: 0.9267\n",
      "Epoch 2/5\n",
      "88/88 [==============================] - 0s 1ms/step - loss: 0.0756 - binary_accuracy: 0.9514 - val_loss: 0.1794 - val_binary_accuracy: 0.9767\n",
      "Epoch 3/5\n",
      "88/88 [==============================] - 0s 2ms/step - loss: 0.0756 - binary_accuracy: 0.9529 - val_loss: 0.0574 - val_binary_accuracy: 0.9883\n",
      "Epoch 4/5\n",
      "88/88 [==============================] - 0s 2ms/step - loss: 0.0749 - binary_accuracy: 0.9550 - val_loss: 0.1182 - val_binary_accuracy: 0.9067\n",
      "Epoch 5/5\n",
      "88/88 [==============================] - 0s 1ms/step - loss: 0.0781 - binary_accuracy: 0.9486 - val_loss: 0.0310 - val_binary_accuracy: 0.9933\n"
     ]
    },
    {
     "data": {
      "text/plain": [
       "<keras.callbacks.History at 0x14a513d9ee0>"
      ]
     },
     "execution_count": 46,
     "metadata": {},
     "output_type": "execute_result"
    }
   ],
   "source": [
    "model = keras.Sequential([keras.layers.Dense(1)])\n",
    "model.compile(optimizer=keras.optimizers.RMSprop(learning_rate=0.1),\n",
    "              loss=keras.losses.MeanSquaredError(),\n",
    "              metrics=[keras.metrics.BinaryAccuracy()])\n",
    "\n",
    "indices_permutation = np.random.permutation(len(inputs))\n",
    "shuffled_inputs = inputs[indices_permutation]\n",
    "shuffled_targets = targets[indices_permutation]\n",
    "# To avoid having samples from only one class in the validation data, shuffle the inputs and targets using a random indices permutation.\n",
    "\n",
    "num_validation_samples = int(0.3 * len(inputs))\n",
    "val_inputs = shuffled_inputs[:num_validation_samples]\n",
    "val_targets = shuffled_targets[:num_validation_samples]\n",
    "training_inputs = shuffled_inputs[num_validation_samples:]\n",
    "training_targets = shuffled_targets[num_validation_samples:]\n",
    "# Reserve 30% of the training inputs and targets for validation (we’ll exclude these samples from training and reserve them to compute the validation loss and metrics).\n",
    "\n",
    "model.fit(\n",
    "    training_inputs,\n",
    "    training_targets,\n",
    "    epochs=5,\n",
    "    batch_size=16,\n",
    "    validation_data=(val_inputs, val_targets) # Validation data, used only to monitor the validation loss and metrics\n",
    ")"
   ]
  },
  {
   "cell_type": "markdown",
   "metadata": {},
   "source": [
    "The value of the loss on the validation data is called the “validation loss,” to distinguish it from the “training loss.” Note that it’s essential to keep the training data and validation data strictly separate: the purpose of validation is to monitor whether what the model is learning is actually useful on new data. If any of the validation data has been seen by the model during training, your validation loss and metrics will be flawed. <br>\n",
    "Note that if you want to compute the validation loss and metrics after the training is complete, you can call the **evaluate()** method:"
   ]
  },
  {
   "cell_type": "code",
   "execution_count": 49,
   "metadata": {},
   "outputs": [
    {
     "name": "stdout",
     "output_type": "stream",
     "text": [
      "5/5 [==============================] - 0s 1ms/step - loss: 0.0310 - binary_accuracy: 0.9933\n"
     ]
    }
   ],
   "source": [
    "loss_and_metrics = model.evaluate(val_inputs, val_targets, batch_size=128)"
   ]
  },
  {
   "cell_type": "markdown",
   "metadata": {},
   "source": [
    "**evaluate()** will iterate in batches (of size batch_size) over the data passed and return a list of scalars, where the first entry is the validation loss and the following entries are the validation metrics. <br>\n",
    "If the model has no metrics, only the validation loss is returned (rather than a list)."
   ]
  },
  {
   "cell_type": "markdown",
   "metadata": {},
   "source": [
    "##### Inference: Using a model after training\n",
    "Once you’ve trained your model, you’re going to want to use it to make predictions on new data. <br>\n",
    "This is called **inference**. <br>\n",
    "To do this, a naive approach would simply be to __call__() the model:\n",
    "```python\n",
    "predictions = model(new_inputs) # Takes a NumPy array or TensorFlow tensor and returns a TensorFlow tensor\n",
    "```"
   ]
  },
  {
   "cell_type": "markdown",
   "metadata": {},
   "source": [
    "However, this will process all inputs in new_inputs at once, which may not be feasible if you’re looking at a lot of data (in particular, it may require more memory than your GPU has).\n",
    "\n",
    "A better way to do inference is to use the **predict()** method. It will iterate over the data in small batches and return a NumPy array of predictions. <br>\n",
    "And unlike __call__(), it can also process TensorFlow **Dataset** objects.\n",
    "\n",
    "For instance, if we use **predict()** on some of our validation data with the linear model we trained earlier, we get scalar scores that correspond to the model’s prediction for each input sample:"
   ]
  },
  {
   "cell_type": "code",
   "execution_count": 51,
   "metadata": {},
   "outputs": [
    {
     "name": "stdout",
     "output_type": "stream",
     "text": [
      "[[ 0.03143716]\n",
      " [ 1.209312  ]\n",
      " [ 0.07905912]\n",
      " [ 1.0548532 ]\n",
      " [ 1.144327  ]\n",
      " [-0.05326343]\n",
      " [ 1.3726771 ]\n",
      " [ 0.20789003]\n",
      " [ 0.9581977 ]\n",
      " [ 0.19748801]]\n"
     ]
    }
   ],
   "source": [
    "predictions = model.predict(val_inputs, batch_size=128) # Takes a NumPy array or a Dataset and returns a NumPy array\n",
    "print(predictions[:10])"
   ]
  },
  {
   "cell_type": "markdown",
   "metadata": {},
   "source": [
    "For now, this is all you need to know about Keras models. You are ready to move on to solving real-world machine learning problems with Keras in the next chapter."
   ]
  },
  {
   "cell_type": "markdown",
   "metadata": {},
   "source": [
    "#### Summary\n",
    "- TensorFlow is an industry-strength numerical computing framework that can run on CPU, GPU, or TPU. It can automatically compute the gradient of any differentiable expression, it can be distributed to many devices, and it can export programs to various external runtimes—even JavaScript.\n",
    "- Keras is the standard API for doing deep learning with TensorFlow. It’s what we’ll use throughout this book.\n",
    "- Key TensorFlow objects include tensors, variables, tensor operations, and the gradient tape.\n",
    "- The central class of Keras is the **Layer**. A layer encapsulates some weights and some computation. Layers are assembled into **models**.\n",
    "- Before you start training a model, you need to pick an **optimizer**, a **loss**, and some **metrics**, which you specify via the **model.compile()** method.\n",
    "- To train a model, you can use the **fit()** method, which runs mini-batch gradient descent for you. You can also use it to monitor your loss and metrics on validation data, a set of inputs that the model doesn’t see during training.\n",
    "- Once your model is trained, you use the **model.predict()** method to generate predictions on new inputs."
   ]
  }
 ],
 "metadata": {
  "interpreter": {
   "hash": "483abfc7fdcd927bfa336910f494643cce94b3dfa36bcded073270b8df64edb3"
  },
  "kernelspec": {
   "display_name": "Python 3.9.6 64-bit",
   "language": "python",
   "name": "python3"
  },
  "language_info": {
   "codemirror_mode": {
    "name": "ipython",
    "version": 3
   },
   "file_extension": ".py",
   "mimetype": "text/x-python",
   "name": "python",
   "nbconvert_exporter": "python",
   "pygments_lexer": "ipython3",
   "version": "3.9.6"
  },
  "orig_nbformat": 4
 },
 "nbformat": 4,
 "nbformat_minor": 2
}
